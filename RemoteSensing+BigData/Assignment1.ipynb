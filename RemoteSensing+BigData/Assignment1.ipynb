{
 "cells": [
  {
   "cell_type": "markdown",
   "id": "2b9d9ea7",
   "metadata": {},
   "source": [
    "# Assignment 1\n",
    "Remote Sensing & Big Data\n",
    "Assignment 1\n",
    "In this assignment, you will implement the map-reduce principles and some basic image operations (e.g. morphological operations) on the Landsat 7 image collection in the Google Earth Engine (GEE). Below you find the different steps to perform and the questions that come with these steps.\n",
    "\n",
    "When handing in the assignment on Brightspace, we ask you to upload the following:\n",
    "\n",
    "- Your GEE scripts:\n",
    "- When working in the javascript/web-interface: please add your code as appendix to your report (e.g. printed as pdf) and a hyperlink to the working code on GEE.\n",
    "- When working in the python-interface: please add your jupyter-notebook and a printed version (e.g. as pdf) of this notebook.\n",
    "- A motivation for each step in your code. This can be done as comments in your code or separate in the report.\n",
    "- Response to the questions, which are highlighted in red.\n",
    "\n",
    "If you do not provide your code and/or motivation for each step, we will not grade the assignment resulting in a fail score.\n"
   ]
  },
  {
   "cell_type": "code",
   "execution_count": 9,
   "id": "14f0bd55",
   "metadata": {},
   "outputs": [],
   "source": [
    "import ee\n",
    "import geemap\n",
    "from geemap import cartoee\n",
    "import cartopy.crs as ccrs\n",
    "import matplotlib.pyplot as plt"
   ]
  },
  {
   "cell_type": "code",
   "execution_count": 10,
   "id": "06a27155",
   "metadata": {},
   "outputs": [],
   "source": [
    "def setup():\n",
    "    ee.Authenticate()\n",
    "    ee.Initialize()\n",
    "#setup()"
   ]
  },
  {
   "cell_type": "code",
   "execution_count": 74,
   "id": "448af26a-f4d3-404f-9cc2-b417e9618c64",
   "metadata": {},
   "outputs": [],
   "source": [
    "datedict = ls.reduceColumns(ee.Reducer.minMax(),['DATE_ACQUIRED']).getInfo()\n",
    "enddate,startdate = datedict.values()\n",
    "endyear = ee.Date(enddate).format('YYYY').getInfo()\n",
    "startyear = ee.Date(startdate).format('YYYY').getInfo()"
   ]
  },
  {
   "cell_type": "code",
   "execution_count": 79,
   "id": "01fb8a9a-1a68-4c55-89ab-73acf9edb0bf",
   "metadata": {},
   "outputs": [],
   "source": [
    "def annual_comp(collection, year):\n",
    "    st = f'{year}-01-01'\n",
    "    end = f'{year}-12-31'\n",
    "    return collection.filterDate(st,end)\n",
    "\n",
    "def all_annual_comps(collection: ee.ImageCollection):\n",
    "    datedict = collection.reduceColumns(ee.Reducer.minMax(),['DATE_ACQUIRED']).getInfo()\n",
    "    enddate,startdate = datedict.values()\n",
    "    endyear = int(ee.Date(enddate).format('YYYY').getInfo())\n",
    "    startyear = int(ee.Date(startdate).format('YYYY').getInfo())\n",
    "    \n",
    "    annual_collection_list = []\n",
    "    \n",
    "    for year in range(startyear,endyear):\n",
    "        yearcollection = annual_comp(collection,year)\n",
    "        annual_collection_list.append(yearcollection)\n",
    "    \n",
    "    return annual_collection_list\n",
    "        "
   ]
  },
  {
   "cell_type": "code",
   "execution_count": 11,
   "id": "35f9d3f0",
   "metadata": {
    "tags": []
   },
   "outputs": [],
   "source": [
    "def map_image(image,name):\n",
    "    projection = ccrs.epsg(26985)\n",
    "    vp =  {'bands':[f'B3_{name}',f'B2_{name}',f'B1_{name}'],\n",
    "              'min':0,\n",
    "             'max':0.4,\n",
    "            'gamma': 1.2,\n",
    "              }\n",
    "        \n",
    "    fig = plt.figure(figsize=(10,7))\n",
    "\n",
    "    # use cartoee to get a map\n",
    "    ax = cartoee.get_map(image,region=bbox_coord,vis_params=vp,proj=projection)\n",
    "\n",
    "    # add gridlines to the map at a specified interval\n",
    "    #cartoee.add_gridlines(ax,interval=[60,30],linestyle=\":\")\n",
    "\n",
    "    # add coastlines using the cartopy api\n",
    "    #ax.coastlines(color=\"red\")\n",
    "\n",
    "    plt.show()"
   ]
  },
  {
   "cell_type": "code",
   "execution_count": 12,
   "id": "2e2852a2",
   "metadata": {
    "tags": []
   },
   "outputs": [],
   "source": [
    "def make_reduced_images(imcollection: ee.ImageCollection,Icname):\n",
    "    \"\"\"\n",
    "    Accepts an image collection, applies the four reducers\n",
    "\n",
    "    returns dictionary of reducer:image with\n",
    "    \"\"\"\n",
    "    # set up empty dict\n",
    "    reduced_images = {}\n",
    "\n",
    "    reducers = {\n",
    "    'mean':ee.Reducer.mean(),\n",
    "    'median':ee.Reducer.median(),\n",
    "    'p5':ee.Reducer.percentile(percentiles=[5]),\n",
    "    'p95':ee.Reducer.percentile(percentiles=[95])           \n",
    "    }\n",
    "\n",
    "    for x in reducers:\n",
    "        name = x\n",
    "        reducer = reducers[x]\n",
    "        reduced_image = imcollection.reduce(reducer)\n",
    "        assert type(name) == str  # check that \n",
    "        assert type(reduced_image) == ee.Image\n",
    "        reduced_images.update({name:reduced_image})\n",
    "\n",
    "    return reduced_images"
   ]
  },
  {
   "cell_type": "code",
   "execution_count": 13,
   "id": "883b9cd6",
   "metadata": {
    "tags": []
   },
   "outputs": [],
   "source": [
    "def map_reduced_images(imcollection: ee.ImageCollection):\n",
    "    reduced_images = make_reduced_images(imcollection,'_')\n",
    "    for reduced_image_name in reduced_images:\n",
    "        print(f'Mapping {reduced_image_name}')\n",
    "        reduced_image = reduced_images[reduced_image_name]\n",
    "        map_image(reduced_image,reduced_image_name)\n",
    "        "
   ]
  },
  {
   "cell_type": "code",
   "execution_count": 14,
   "id": "b2e0347a",
   "metadata": {
    "tags": []
   },
   "outputs": [],
   "source": [
    "def add_composites_to_map(imcollection: ee.ImageCollection,m: geemap.Map,Icname):\n",
    "    \"\"\"\n",
    "    Accepts an image collection, a map, and a name for this image colection\n",
    "    \n",
    "    returns the map with mean, median, count, 0.05 cut and 0.95 percentile cut of the image collection\n",
    "    \"\"\"\n",
    "    # add count first because we \n",
    "    m.add_ee_layer(imcollection.reduce(ee.Reducer.count()),name='count')\n",
    "    \n",
    "    images = make_reduced_images(imcollection,Icname)\n",
    "    \n",
    "    for imagename in images:\n",
    "        name = imagename\n",
    "        reduced_image = images[imagename]\n",
    "        vp =  {'bands':[f'B3_{name}',f'B2_{name}',f'B1_{name}'],\n",
    "              'min':0,\n",
    "             'max':0.4,\n",
    "            'gamma': 1.2,\n",
    "              }\n",
    "        \n",
    "        m.add_ee_layer(reduced_image,vis_params=vp,name=Icname+'-'+name)\n",
    "        \n",
    "    return m\n",
    "    "
   ]
  },
  {
   "cell_type": "markdown",
   "id": "e6b6d244",
   "metadata": {
    "tags": []
   },
   "source": [
    "## Step 1 Data loading\n",
    "- Load the USGS Landsat 7 Top of Atmosphere Reflectance Tier 1 data over a region of your interest. FYI: if you want to know what the difference between the different Tiers is: https://www.usgs.gov/media/videos/landsat-collections-what-are-tiers"
   ]
  },
  {
   "cell_type": "code",
   "execution_count": 15,
   "id": "e8f5a01c",
   "metadata": {},
   "outputs": [],
   "source": [
    "house_coords = [38, -76.21]  # lat long\n",
    "box_size= 0.00  # in degrees\n",
    "bbox_coord = [house_coords[1]-box_size,house_coords[0]-box_size,house_coords[1]+box_size,house_coords[0]+box_size]\n",
    "poi = ee.Geometry.Point(house_coords[::-1])  # ee geometry needs long, lat so list is reversed\n",
    "roi = ee.Geometry.BBox(*bbox_coord)\n",
    "\n",
    "Map = geemap.Map(center = house_coords,zoom=8)\n",
    "Map.addLayerControl()\n",
    "\n",
    "ls = ee.ImageCollection(\"LANDSAT/LE07/C01/T1_TOA\").filterBounds(poi)"
   ]
  },
  {
   "cell_type": "markdown",
   "id": "25cce897",
   "metadata": {
    "tags": []
   },
   "source": [
    "## Step 2 Naive annual composites\n",
    "- Apply the map-reduce principle to convert the image collection of Step 1 into annual composites with different filtering & reducing conditions. Within this step, implement:\n",
    "    - A: Different filtering conditions based cloud cover metadata:\n",
    "        - a1: no filtering"
   ]
  },
  {
   "cell_type": "code",
   "execution_count": 16,
   "id": "439c62ae",
   "metadata": {},
   "outputs": [],
   "source": [
    "a1 = ls # a1 is just the landsat with no filtering\n",
    "Map = add_composites_to_map(a1,Map,'a1')"
   ]
  },
  {
   "cell_type": "markdown",
   "id": "aa9b88e3",
   "metadata": {},
   "source": [
    "        - a2: filtering on <50% cloud cover "
   ]
  },
  {
   "cell_type": "code",
   "execution_count": 17,
   "id": "fcacef36",
   "metadata": {},
   "outputs": [],
   "source": [
    "a2 = ls.filterMetadata('CLOUD_COVER','less_than',50)\n",
    "Map = add_composites_to_map(a2,Map,'a2')"
   ]
  },
  {
   "cell_type": "markdown",
   "id": "5b63f8b1",
   "metadata": {},
   "source": [
    "        - a3: filtering in <20% cloud cover"
   ]
  },
  {
   "cell_type": "code",
   "execution_count": 18,
   "id": "9c6e4bd0",
   "metadata": {},
   "outputs": [],
   "source": [
    "a3 = ls.filterMetadata('CLOUD_COVER','less_than',20)\n",
    "Map = add_composites_to_map(a3,Map,'ac3')"
   ]
  },
  {
   "cell_type": "code",
   "execution_count": 19,
   "id": "e50bda54",
   "metadata": {},
   "outputs": [
    {
     "data": {
      "application/vnd.jupyter.widget-view+json": {
       "model_id": "fe64dc60c18e44f4ba85528c5e6a421b",
       "version_major": 2,
       "version_minor": 0
      },
      "text/plain": [
       "Map(center=[38, -76.21], controls=(WidgetControl(options=['position', 'transparent_bg'], widget=HBox(children=…"
      ]
     },
     "metadata": {},
     "output_type": "display_data"
    }
   ],
   "source": [
    "Map"
   ]
  },
  {
   "cell_type": "markdown",
   "id": "4b9d0ef5",
   "metadata": {},
   "source": [
    "- B: Use the result of a2 and test the effect of masking the clouds & cloud-shadows using the BQA bitmask: \n",
    "    - b0: without cloud masking "
   ]
  },
  {
   "cell_type": "code",
   "execution_count": 116,
   "id": "836af50e",
   "metadata": {},
   "outputs": [],
   "source": [
    "Map = geemap.Map(center = house_coords,zoom=10)"
   ]
  },
  {
   "cell_type": "code",
   "execution_count": null,
   "id": "c007bb51",
   "metadata": {},
   "outputs": [],
   "source": []
  },
  {
   "cell_type": "code",
   "execution_count": 117,
   "id": "da6083ec",
   "metadata": {},
   "outputs": [],
   "source": [
    "b0 = ls.filterMetadata('CLOUD_COVER','less_than',50)\n",
    "\n",
    "Map = add_composites_to_map(b0,Map,'No Masking')"
   ]
  },
  {
   "cell_type": "markdown",
   "id": "23ffa49f",
   "metadata": {},
   "source": [
    "    - b1: with the clouds masked "
   ]
  },
  {
   "cell_type": "code",
   "execution_count": 181,
   "id": "b1bccf86",
   "metadata": {},
   "outputs": [],
   "source": [
    "def cld_mask(image: ee.Image):\n",
    "    cloudbit = 1 << 4\n",
    "    bqa = image.select('BQA')\n",
    "    cloudmask = bqa.bitwise_and(cloudbit).eq(0)\n",
    "    cloudmask = cloudmask.rename(['cloudMask'])\n",
    "    image = image.addBands(cloudmask)\n",
    "    image.updateMask('cloudMask')\n",
    "    return image"
   ]
  },
  {
   "cell_type": "code",
   "execution_count": 190,
   "id": "fa3c925d",
   "metadata": {},
   "outputs": [],
   "source": [
    "def cld_shdw_mask(image):\n",
    "    \"\"\"\n",
    "    takes a landsat 7 image\n",
    "    \n",
    "    returns the same image with a band called cloudMask based on where the there is a shadow OR a cloud\n",
    "    \"\"\"\n",
    "    cloudbit = 1 << 4\n",
    "    cloudshadowbit = 2 << 7\n",
    "    bqa = image.select('BQA')\n",
    "    #cloudmask = bqa.bitwise_and(cloudbit).Or(testimage.bitwise_and(cloudshadowbit)).eq(0)\n",
    "    cloudmask = bqa.bitwise_and(cloudbit+cloudshadowbit).eq(0)\n",
    "    cloudmask = cloudmask.rename(['cloudMask'])\n",
    "    image = image.addBands(cloudmask)\n",
    "    image.updateMask('cloudMask')\n",
    "    return image"
   ]
  },
  {
   "cell_type": "code",
   "execution_count": 191,
   "id": "17b82a0f",
   "metadata": {},
   "outputs": [],
   "source": [
    "b1 = b0.map(cld_mask)\n",
    "Map = add_composites_to_map(b1,Map,'Cloud Masking')"
   ]
  },
  {
   "cell_type": "markdown",
   "id": "5630b67c",
   "metadata": {},
   "source": [
    "    - b2: with clouds and shadow masked\n",
    "    "
   ]
  },
  {
   "cell_type": "code",
   "execution_count": 194,
   "id": "bdfc9d80",
   "metadata": {
    "tags": []
   },
   "outputs": [],
   "source": [
    "def testmask():\n",
    "    m = geemap.Map(center = house_coords,zoom=8)\n",
    "    testimage = ls.filter(ee.Filter.date(0,'2003-05-31')).filterMetadata('CLOUD_COVER','greater_than',50).sort('CLOUD_COVER').first()\n",
    "    cld_maskimage = cld_mask(testimage).select('cloudMask')\n",
    "    shad_maskimage = cld_shdw_mask(testimage).select('cloudMask')\n",
    "    m.add_ee_layer(testimage,shown=False,name='raw_image',vis_params={'bands':['B3','B2','B1'],'min':0,'max':0.4})\n",
    "    m.add_ee_layer(shad_maskimage,vis_params={'min':0,'max':1},name='cloud and shadow mask')\n",
    "    m.add_ee_layer(cld_maskimage,vis_params={'min':0,'max':1},name='cloud mask')\n",
    "    return m"
   ]
  },
  {
   "cell_type": "code",
   "execution_count": 195,
   "id": "0e356284",
   "metadata": {},
   "outputs": [
    {
     "data": {
      "application/vnd.jupyter.widget-view+json": {
       "model_id": "85dbb9f04b44476589aaec5a0dcb1478",
       "version_major": 2,
       "version_minor": 0
      },
      "text/plain": [
       "Map(bottom=101416.0, center=[38, -76.21], controls=(WidgetControl(options=['position', 'transparent_bg'], widg…"
      ]
     },
     "metadata": {},
     "output_type": "display_data"
    }
   ],
   "source": [
    "b2 = b0.map(cld_shdw_mask)\n",
    "\n",
    "Map = add_composites_to_map(b2,Map,'Cloud and Shadow masking')\n",
    "Map"
   ]
  },
  {
   "cell_type": "code",
   "execution_count": 196,
   "id": "526579d8",
   "metadata": {
    "tags": []
   },
   "outputs": [
    {
     "data": {
      "application/vnd.jupyter.widget-view+json": {
       "model_id": "5cccd3e871924ac9b7471480d714aa9c",
       "version_major": 2,
       "version_minor": 0
      },
      "text/plain": [
       "Map(center=[38, -76.21], controls=(WidgetControl(options=['position', 'transparent_bg'], widget=HBox(children=…"
      ]
     },
     "metadata": {},
     "output_type": "display_data"
    }
   ],
   "source": [
    "m = geemap.Map(center = house_coords,zoom=10)\n",
    "vp =  {'bands':['cloudMask'],\n",
    "              'min':0,\n",
    "             'max':1,\n",
    "            'gamma': 1.2,\n",
    "              }\n",
    "#m.add_ee_layer(b0.mean(),vis_params=vp)\n",
    "m.add_ee_layer(b0.map(cld_mask).mean(),vis_params=vp)\n",
    "m.add_ee_layer(b0.map(cld_shdw_mask).mean(),vis_params=vp)\n",
    "m"
   ]
  },
  {
   "cell_type": "markdown",
   "id": "5596915a",
   "metadata": {},
   "source": [
    "- C: For every step of A&B visualize different reducers for the RGB-bands: \n",
    "    - mean \n",
    "    - median \n",
    "    - count\n",
    "        - 0.05 percentile\n",
    "        - 0.95 percentile\n"
   ]
  },
  {
   "cell_type": "markdown",
   "id": "cdf68192",
   "metadata": {},
   "source": [
    "- Visualize the results as a true color (for the mean, median and percentiles) and pseudo-color image for a pre- and post-SLC failure year (More background on the SLC-failure in https://www.usgs.gov/core-science-systems/nli/landsat/landsat-7?qt-science_support_page_related_con=0#qt-science_support_page_related_con )\n"
   ]
  },
  {
   "cell_type": "code",
   "execution_count": 198,
   "id": "75e97c3b",
   "metadata": {},
   "outputs": [],
   "source": [
    "pre_failure_coll = ls.filter(ee.Filter.date(0,'2003-05-31'))\n",
    "post_failure_coll = ls.filterDate('2003-05-31','2021-09-20')\n"
   ]
  },
  {
   "cell_type": "code",
   "execution_count": null,
   "id": "43a1c1a4",
   "metadata": {},
   "outputs": [],
   "source": []
  },
  {
   "cell_type": "code",
   "execution_count": 199,
   "id": "545a2ce2",
   "metadata": {},
   "outputs": [],
   "source": [
    "slc_map = geemap.Map(center=house_coords,zoom=10)\n",
    "slc_map = add_composites_to_map(pre_failure_coll,slc_map,'Pre failure')\n",
    "slc_map = add_composites_to_map(post_failure_coll,slc_map,'Post Failure')\n",
    "slc_map.add_ee_layer(pre_failure_coll.median(),vis_params={'bands':['B4','B3','B2'],'max':0,'min':0.4,'gamma': [0.95, 1.1, 1]})"
   ]
  },
  {
   "cell_type": "code",
   "execution_count": 200,
   "id": "a6893ee7",
   "metadata": {},
   "outputs": [
    {
     "data": {
      "application/vnd.jupyter.widget-view+json": {
       "model_id": "291e0f2e40194ad0be1fc7cabcb09358",
       "version_major": 2,
       "version_minor": 0
      },
      "text/plain": [
       "Map(center=[38, -76.21], controls=(WidgetControl(options=['position', 'transparent_bg'], widget=HBox(children=…"
      ]
     },
     "metadata": {},
     "output_type": "display_data"
    }
   ],
   "source": [
    "slc_map"
   ]
  },
  {
   "cell_type": "markdown",
   "id": "4c2223c1",
   "metadata": {},
   "source": [
    "\n",
    "- **Q1: What are the differences you observe between the different composites (e.g. number of scenes, cloud/noise/SLC artefacts, reflectance values and visual appearance) and explain their cause?**\n",
    "- **Q2: Discuss what the impact of these differences could be on subsequent big data analysis and how it might affect the veracity of the analysis.**"
   ]
  },
  {
   "cell_type": "markdown",
   "id": "e78e25c0",
   "metadata": {},
   "source": [
    "## Step 3 Greenest pixel composites\n",
    "- Use the map-principle to calculate the normalized difference vegetation index (NDVI) for every image and use this index to reduce the collection to a greenest pixel composite for every year.\n",
    "- Visualize the results and compare them to the results of Step 2.\n",
    "- **Q3: What are the differences between the greenest pixel composite and the results of step 2 and explain their cause?**\n",
    "- **Q4: What are the advantages and potential disadvantages of using a quality mosaic?**"
   ]
  },
  {
   "cell_type": "markdown",
   "id": "a4015ecd",
   "metadata": {},
   "source": [
    "## Step 4 SLC- and cloud masking\n",
    "- Load the cloud+cloud-shadow mask for every image by extracting the BQA mask.\n",
    "- Apply different image dilation/ erosion / opening / closing operations on the BQA mask with different distances/iterations.\n",
    "- Update the mask with the dilated/ erosed / opened / closed BQA mask.\n",
    "- Pick one image and visualize the effect of the dilation/ erosion / opening / closing on the data.\n",
    "- **Q5: Visualize and explain the differences of the different dilation/erosion/ opening/closing operations on the mask. What would be the different dis/advantages of the different methods?**"
   ]
  },
  {
   "cell_type": "markdown",
   "id": "f1ce2ac6",
   "metadata": {},
   "source": [
    "## Step 5 SLC-filling\n",
    "- Apply a map-reduce function to the USGS Landsat 7 Top of Atmosphere Reflectance Tier 1 since 2003 where you replace the missing SLC/cloud/shadow data of every image by:\n",
    "    - The median reflectance\n",
    "    - The mean reflectance\n",
    "    - The reflectance of the greenest pixel\n",
    "    - The reflectance of the pixel that is closest in time\n",
    "- Visualize two images (summer vs winter) where you illustrate the effect of the different filling scenarios.\n",
    "- **Q6: Visualize and explain the differences of the different filling scenarios. What would be the different dis/advantages of the different methods?**"
   ]
  },
  {
   "cell_type": "code",
   "execution_count": null,
   "id": "455201e1",
   "metadata": {},
   "outputs": [],
   "source": []
  }
 ],
 "metadata": {
  "interpreter": {
   "hash": "98b0a9b7b4eaaa670588a142fd0a9b87eaafe866f1db4228be72b4211d12040f"
  },
  "kernelspec": {
   "display_name": "Python 3 (ipykernel)",
   "language": "python",
   "name": "python3"
  },
  "language_info": {
   "codemirror_mode": {
    "name": "ipython",
    "version": 3
   },
   "file_extension": ".py",
   "mimetype": "text/x-python",
   "name": "python",
   "nbconvert_exporter": "python",
   "pygments_lexer": "ipython3",
   "version": "3.9.7"
  }
 },
 "nbformat": 4,
 "nbformat_minor": 5
}
