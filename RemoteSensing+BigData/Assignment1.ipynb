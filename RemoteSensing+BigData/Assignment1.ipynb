{
 "cells": [
  {
   "cell_type": "markdown",
   "id": "2b9d9ea7",
   "metadata": {},
   "source": [
    "# Assignment 1\n",
    "Remote Sensing & Big Data\n",
    "Assignment 1\n",
    "In this assignment, you will implement the map-reduce principles and some basic image operations (e.g. morphological operations) on the Landsat 7 image collection in the Google Earth Engine (GEE). Below you find the different steps to perform and the questions that come with these steps.\n",
    "\n",
    "When handing in the assignment on Brightspace, we ask you to upload the following:\n",
    "\n",
    "- Your GEE scripts:\n",
    "- When working in the javascript/web-interface: please add your code as appendix to your report (e.g. printed as pdf) and a hyperlink to the working code on GEE.\n",
    "- When working in the python-interface: please add your jupyter-notebook and a printed version (e.g. as pdf) of this notebook.\n",
    "- A motivation for each step in your code. This can be done as comments in your code or separate in the report.\n",
    "- Response to the questions, which are highlighted in red.\n",
    "\n",
    "If you do not provide your code and/or motivation for each step, we will not grade the assignment resulting in a fail score.\n"
   ]
  },
  {
   "cell_type": "code",
   "execution_count": 1,
   "id": "14f0bd55",
   "metadata": {},
   "outputs": [],
   "source": [
    "import ee\n",
    "import geemap\n",
    "from geemap import cartoee\n",
    "import cartopy.crs as ccrs\n",
    "import matplotlib.pyplot as plt"
   ]
  },
  {
   "cell_type": "code",
   "execution_count": 2,
   "id": "06a27155",
   "metadata": {},
   "outputs": [
    {
     "data": {
      "text/html": [
       "<p>To authorize access needed by Earth Engine, open the following\n",
       "        URL in a web browser and follow the instructions:</p>\n",
       "        <p><a href=https://accounts.google.com/o/oauth2/auth?client_id=517222506229-vsmmajv00ul0bs7p89v5m89qs8eb9359.apps.googleusercontent.com&scope=https%3A%2F%2Fwww.googleapis.com%2Fauth%2Fearthengine+https%3A%2F%2Fwww.googleapis.com%2Fauth%2Fdevstorage.full_control&redirect_uri=urn%3Aietf%3Awg%3Aoauth%3A2.0%3Aoob&response_type=code&code_challenge=cfOwi9rHTcXSmgMBYvCchMFeB9uloBU-nucdceETEsc&code_challenge_method=S256>https://accounts.google.com/o/oauth2/auth?client_id=517222506229-vsmmajv00ul0bs7p89v5m89qs8eb9359.apps.googleusercontent.com&scope=https%3A%2F%2Fwww.googleapis.com%2Fauth%2Fearthengine+https%3A%2F%2Fwww.googleapis.com%2Fauth%2Fdevstorage.full_control&redirect_uri=urn%3Aietf%3Awg%3Aoauth%3A2.0%3Aoob&response_type=code&code_challenge=cfOwi9rHTcXSmgMBYvCchMFeB9uloBU-nucdceETEsc&code_challenge_method=S256</a></p>\n",
       "        <p>The authorization workflow will generate a code, which you\n",
       "        should paste in the box below</p>\n",
       "        "
      ],
      "text/plain": [
       "<IPython.core.display.HTML object>"
      ]
     },
     "metadata": {},
     "output_type": "display_data"
    },
    {
     "name": "stdin",
     "output_type": "stream",
     "text": [
      "Enter verification code:  4/1AX4XfWhIyX1EYyMe_QeQ_1bgKrVwXH9Ph-sO6fo63kW7nFuSfJRlWs-tmO8\n"
     ]
    },
    {
     "name": "stdout",
     "output_type": "stream",
     "text": [
      "\n",
      "Successfully saved authorization token.\n"
     ]
    }
   ],
   "source": [
    "def setup():\n",
    "    ee.Authenticate()\n",
    "    ee.Initialize()\n",
    "#setup()"
   ]
  },
  {
   "cell_type": "code",
   "execution_count": 28,
   "id": "01fb8a9a-1a68-4c55-89ab-73acf9edb0bf",
   "metadata": {},
   "outputs": [],
   "source": [
    "def annual_comp(collection: ee.ImageCollection, year: int):\n",
    "    \"\"\"\n",
    "    Takes an image collectiona and a year\n",
    "    \n",
    "    Returns the image collection filtered to that year\n",
    "    \"\"\"\n",
    "    st = f'{year}-01-01'\n",
    "    end = f'{year}-12-31'\n",
    "    return collection.filterDate(st,end)\n",
    "\n",
    "def all_annual_comps(collection: ee.ImageCollection):\n",
    "    \"\"\"\n",
    "    Takes and image collection, returns a dictionary of:\n",
    "        year:Image collection filtered to that year\n",
    "    \"\"\"\n",
    "    datedict = collection.reduceColumns(ee.Reducer.minMax(),['DATE_ACQUIRED']).getInfo()\n",
    "    enddate,startdate = datedict.values()\n",
    "    endyear = int(ee.Date(enddate).format('YYYY').getInfo())\n",
    "    startyear = int(ee.Date(startdate).format('YYYY').getInfo())\n",
    "    \n",
    "    annual_collection_dict = {}\n",
    "    \n",
    "    for year in range(startyear,endyear):\n",
    "        yearcollection = annual_comp(collection,year)\n",
    "        \n",
    "        annual_collection_dict.update({year:yearcollection})\n",
    "    \n",
    "    return annual_collection_dict\n",
    "        "
   ]
  },
  {
   "cell_type": "code",
   "execution_count": 41,
   "id": "35f9d3f0",
   "metadata": {
    "tags": []
   },
   "outputs": [],
   "source": [
    "def map_image(image,name):\n",
    "    \n",
    "    vp =  {'bands':[f'B3_{name}',f'B2_{name}',f'B1_{name}'],\n",
    "              'min':0,\n",
    "             'max':0.4,\n",
    "            'gamma': 1.2,\n",
    "              }\n",
    "        \n",
    "    fig = plt.figure(figsize=(10,7))\n",
    "\n",
    "    # use cartoee to get a map\n",
    "    ax = cartoee.get_map(image,region=bbox_coord,vis_params=vp,)\n",
    "\n",
    "    # add gridlines to the map at a specified interval\n",
    "    #cartoee.add_gridlines(ax,interval=[60,30],linestyle=\":\")\n",
    "\n",
    "    # add coastlines using the cartopy api\n",
    "    #ax.coastlines(color=\"red\")\n",
    "\n",
    "    plt.show()\n",
    "    return ax"
   ]
  },
  {
   "cell_type": "code",
   "execution_count": 5,
   "id": "2e2852a2",
   "metadata": {
    "tags": []
   },
   "outputs": [],
   "source": [
    "def make_reduced_images(imcollection: ee.ImageCollection,Icname):\n",
    "    \"\"\"\n",
    "    Accepts an image collection, applies the four reducers\n",
    "\n",
    "    returns dictionary of reducer:image with\n",
    "    \"\"\"\n",
    "    # set up empty dict\n",
    "    reduced_images = {}\n",
    "\n",
    "    reducers = {\n",
    "    'mean':ee.Reducer.mean(),\n",
    "    'median':ee.Reducer.median(),\n",
    "    'p5':ee.Reducer.percentile(percentiles=[5]),\n",
    "    'p95':ee.Reducer.percentile(percentiles=[95])           \n",
    "    }\n",
    "\n",
    "    for x in reducers:\n",
    "        name = x\n",
    "        reducer = reducers[x]\n",
    "        reduced_image = imcollection.reduce(reducer)\n",
    "        assert type(name) == str  # check that \n",
    "        assert type(reduced_image) == ee.Image\n",
    "        reduced_images.update({name:reduced_image})\n",
    "\n",
    "    return reduced_images"
   ]
  },
  {
   "cell_type": "code",
   "execution_count": 6,
   "id": "883b9cd6",
   "metadata": {
    "jupyter": {
     "source_hidden": true
    },
    "tags": []
   },
   "outputs": [],
   "source": [
    "def map_reduced_images(imcollection: ee.ImageCollection):\n",
    "    reduced_images = make_reduced_images(imcollection,'_')\n",
    "    for reduced_image_name in reduced_images:\n",
    "        print(f'Mapping {reduced_image_name}')\n",
    "        reduced_image = reduced_images[reduced_image_name]\n",
    "        map_image(reduced_image,reduced_image_name)\n",
    "        "
   ]
  },
  {
   "cell_type": "code",
   "execution_count": 7,
   "id": "b2e0347a",
   "metadata": {
    "tags": []
   },
   "outputs": [],
   "source": [
    "def add_composites_to_map(imcollection: ee.ImageCollection,m: geemap.Map,Icname):\n",
    "    \"\"\"\n",
    "    Accepts an image collection, a map, and a name for this image colection\n",
    "    \n",
    "    returns the map with mean, median, count, 0.05 cut and 0.95 percentile cut of the image collection\n",
    "    \"\"\"\n",
    "    # add count first because we \n",
    "    #m.add_ee_layer(imcollection.reduce(ee.Reducer.count()),name='count')\n",
    "    \n",
    "    images = make_reduced_images(imcollection,Icname)\n",
    "    \n",
    "    for imagename in images:\n",
    "        name = imagename\n",
    "        reduced_image = images[imagename]\n",
    "        vp =  {'bands':[f'B3_{name}',f'B2_{name}',f'B1_{name}'],\n",
    "              'min':0,\n",
    "             'max':0.4,\n",
    "            'gamma': 1.2,\n",
    "              }\n",
    "        \n",
    "        m.add_ee_layer(reduced_image,vis_params=vp,name=Icname+'-'+name,shown=False)\n",
    "        \n",
    "    return m\n",
    "    "
   ]
  },
  {
   "cell_type": "code",
   "execution_count": 8,
   "id": "c2763bf6-a53f-430b-a10c-4f7bb39bb433",
   "metadata": {},
   "outputs": [],
   "source": [
    "def add_annual_comps_to_map(imcollection: ee.ImageCollection,m: geemap.Map,Icname):\n",
    "    annual_ICs = all_annual_comps(imcollection)\n",
    "    for year in annual_ICs:\n",
    "        year_collection = annual_ICs[year]\n",
    "        m = add_composites_to_map(year_collection,m,str(year)+Icname)\n",
    "    \n",
    "    return m\n",
    "    "
   ]
  },
  {
   "cell_type": "markdown",
   "id": "e6b6d244",
   "metadata": {
    "tags": []
   },
   "source": [
    "## Step 1 Data loading\n",
    "- Load the USGS Landsat 7 Top of Atmosphere Reflectance Tier 1 data over a region of your interest. FYI: if you want to know what the difference between the different Tiers is: https://www.usgs.gov/media/videos/landsat-collections-what-are-tiers"
   ]
  },
  {
   "cell_type": "code",
   "execution_count": 9,
   "id": "e8f5a01c",
   "metadata": {},
   "outputs": [],
   "source": [
    "house_coords = [38, -76.21]  # lat long\n",
    "box_size= 3.00  # in degrees\n",
    "bbox_coord = [house_coords[1]-box_size,house_coords[0]-box_size,house_coords[1]+box_size,house_coords[0]+box_size]\n",
    "poi = ee.Geometry.Point(house_coords[::-1])  # ee geometry needs long, lat so list is reversed\n",
    "roi = ee.Geometry.BBox(*bbox_coord)\n",
    "\n",
    "Map = geemap.Map(center = house_coords,zoom=8)\n",
    "Map.addLayerControl()\n",
    "\n",
    "ls = ee.ImageCollection(\"LANDSAT/LE07/C01/T1_TOA\").filterBounds(roi)"
   ]
  },
  {
   "cell_type": "markdown",
   "id": "25cce897",
   "metadata": {
    "tags": []
   },
   "source": [
    "## Step 2 Naive annual composites\n",
    "- Apply the map-reduce principle to convert the image collection of Step 1 into annual composites with different filtering & reducing conditions. Within this step, implement:\n",
    "    - A: Different filtering conditions based cloud cover metadata:\n",
    "        - a1: no filtering"
   ]
  },
  {
   "cell_type": "code",
   "execution_count": 10,
   "id": "439c62ae",
   "metadata": {},
   "outputs": [],
   "source": [
    "a1 = ls # a1 is just the landsat with no filtering\n",
    "Map = add_composites_to_map(a1,Map,'a1')"
   ]
  },
  {
   "cell_type": "markdown",
   "id": "aa9b88e3",
   "metadata": {},
   "source": [
    "        - a2: filtering on <50% cloud cover "
   ]
  },
  {
   "cell_type": "code",
   "execution_count": 11,
   "id": "fcacef36",
   "metadata": {},
   "outputs": [],
   "source": [
    "a2 = ls.filterMetadata('CLOUD_COVER','less_than',50)\n",
    "Map = add_annual_comps_to_map(a2,Map,'a2')"
   ]
  },
  {
   "cell_type": "markdown",
   "id": "5b63f8b1",
   "metadata": {},
   "source": [
    "        - a3: filtering in <20% cloud cover"
   ]
  },
  {
   "cell_type": "code",
   "execution_count": 12,
   "id": "9c6e4bd0",
   "metadata": {},
   "outputs": [],
   "source": [
    "a3 = ls.filterMetadata('CLOUD_COVER','less_than',20)\n",
    "Map = add_composites_to_map(a3,Map,'ac3')"
   ]
  },
  {
   "cell_type": "code",
   "execution_count": 13,
   "id": "e50bda54",
   "metadata": {},
   "outputs": [
    {
     "data": {
      "application/vnd.jupyter.widget-view+json": {
       "model_id": "3caf5efe57094d368eacec4ef3241a02",
       "version_major": 2,
       "version_minor": 0
      },
      "text/plain": [
       "Map(center=[38, -76.21], controls=(WidgetControl(options=['position', 'transparent_bg'], widget=HBox(children=…"
      ]
     },
     "metadata": {},
     "output_type": "display_data"
    }
   ],
   "source": [
    "Map"
   ]
  },
  {
   "cell_type": "markdown",
   "id": "4b9d0ef5",
   "metadata": {},
   "source": [
    "- B: Use the result of a2 and test the effect of masking the clouds & cloud-shadows using the BQA bitmask: \n",
    "    - b0: without cloud masking "
   ]
  },
  {
   "cell_type": "code",
   "execution_count": 14,
   "id": "836af50e",
   "metadata": {},
   "outputs": [],
   "source": [
    "Map = geemap.Map(center = house_coords,zoom=10)"
   ]
  },
  {
   "cell_type": "code",
   "execution_count": null,
   "id": "c007bb51",
   "metadata": {},
   "outputs": [],
   "source": []
  },
  {
   "cell_type": "code",
   "execution_count": 15,
   "id": "da6083ec",
   "metadata": {},
   "outputs": [],
   "source": [
    "b0 = ls.filterMetadata('CLOUD_COVER','less_than',50)\n",
    "\n",
    "Map = add_composites_to_map(b0,Map,'No Masking')"
   ]
  },
  {
   "cell_type": "markdown",
   "id": "23ffa49f",
   "metadata": {},
   "source": [
    "    - b1: with the clouds masked "
   ]
  },
  {
   "cell_type": "code",
   "execution_count": 16,
   "id": "b1bccf86",
   "metadata": {},
   "outputs": [],
   "source": [
    "def cld_mask(image: ee.Image):\n",
    "    cloudbit = 1 << 4\n",
    "    bqa = image.select('BQA')\n",
    "    cloudmask = bqa.bitwise_and(cloudbit).eq(0)\n",
    "    cloudmask = cloudmask.rename(['cloudMask'])\n",
    "    image = image.addBands(cloudmask)\n",
    "    image.updateMask('cloudMask')\n",
    "    return image"
   ]
  },
  {
   "cell_type": "code",
   "execution_count": 17,
   "id": "fa3c925d",
   "metadata": {},
   "outputs": [],
   "source": [
    "def cld_shdw_mask(image):\n",
    "    \"\"\"\n",
    "    takes a landsat 7 image\n",
    "    \n",
    "    returns the same image with a band called cloudMask based on where the there is a shadow OR a cloud\n",
    "    \"\"\"\n",
    "    cloudbit = 1 << 4\n",
    "    cloudshadowbit = 2 << 7\n",
    "    bqa = image.select('BQA')\n",
    "    #cloudmask = bqa.bitwise_and(cloudbit).Or(testimage.bitwise_and(cloudshadowbit)).eq(0)\n",
    "    cloudmask = bqa.bitwise_and(cloudbit+cloudshadowbit).eq(0)\n",
    "    cloudmask = cloudmask.rename(['cloudMask'])\n",
    "    image = image.addBands(cloudmask)\n",
    "    image.updateMask('cloudMask')\n",
    "    return image"
   ]
  },
  {
   "cell_type": "code",
   "execution_count": 18,
   "id": "17b82a0f",
   "metadata": {},
   "outputs": [],
   "source": [
    "b1 = b0.map(cld_mask)\n",
    "Map = add_composites_to_map(b1,Map,'Cloud Masking')"
   ]
  },
  {
   "cell_type": "markdown",
   "id": "5630b67c",
   "metadata": {},
   "source": [
    "    - b2: with clouds and shadow masked\n",
    "    "
   ]
  },
  {
   "cell_type": "code",
   "execution_count": 19,
   "id": "bdfc9d80",
   "metadata": {
    "tags": []
   },
   "outputs": [],
   "source": [
    "def testmask():\n",
    "    m = geemap.Map(center = house_coords,zoom=8)\n",
    "    testimage = ls.filter(ee.Filter.date(0,'2003-05-31')).filterMetadata('CLOUD_COVER','greater_than',50).sort('CLOUD_COVER').first()\n",
    "    cld_maskimage = cld_mask(testimage).select('cloudMask')\n",
    "    shad_maskimage = cld_shdw_mask(testimage).select('cloudMask')\n",
    "    m.add_ee_layer(testimage,shown=False,name='raw_image',vis_params={'bands':['B3','B2','B1'],'min':0,'max':0.4})\n",
    "    m.add_ee_layer(shad_maskimage,vis_params={'min':0,'max':1},name='cloud and shadow mask')\n",
    "    m.add_ee_layer(cld_maskimage,vis_params={'min':0,'max':1},name='cloud mask')\n",
    "    return m"
   ]
  },
  {
   "cell_type": "code",
   "execution_count": 20,
   "id": "0e356284",
   "metadata": {},
   "outputs": [
    {
     "data": {
      "application/vnd.jupyter.widget-view+json": {
       "model_id": "66a543c14cd84a5892fdd9b445ee6d66",
       "version_major": 2,
       "version_minor": 0
      },
      "text/plain": [
       "Map(center=[38, -76.21], controls=(WidgetControl(options=['position', 'transparent_bg'], widget=HBox(children=…"
      ]
     },
     "metadata": {},
     "output_type": "display_data"
    }
   ],
   "source": [
    "b2 = b0.map(cld_shdw_mask)\n",
    "\n",
    "Map = add_composites_to_map(b2,Map,'Cloud and Shadow masking')\n",
    "Map"
   ]
  },
  {
   "cell_type": "code",
   "execution_count": 21,
   "id": "526579d8",
   "metadata": {
    "tags": []
   },
   "outputs": [
    {
     "data": {
      "application/vnd.jupyter.widget-view+json": {
       "model_id": "b7d353f81b934ac09b0a69b3ed1b6ca1",
       "version_major": 2,
       "version_minor": 0
      },
      "text/plain": [
       "Map(center=[38, -76.21], controls=(WidgetControl(options=['position', 'transparent_bg'], widget=HBox(children=…"
      ]
     },
     "metadata": {},
     "output_type": "display_data"
    }
   ],
   "source": [
    "m = geemap.Map(center = house_coords,zoom=10)\n",
    "vp =  {'bands':['cloudMask'],\n",
    "              'min':0,\n",
    "             'max':1,\n",
    "            'gamma': 1.2,\n",
    "              }\n",
    "#m.add_ee_layer(b0.mean(),vis_params=vp)\n",
    "m.add_ee_layer(b0.map(cld_mask).mean(),vis_params=vp)\n",
    "m.add_ee_layer(b0.map(cld_shdw_mask).mean(),vis_params=vp)\n",
    "m"
   ]
  },
  {
   "cell_type": "markdown",
   "id": "5596915a",
   "metadata": {},
   "source": [
    "- C: For every step of A&B visualize different reducers for the RGB-bands: \n",
    "    - mean \n",
    "    - median \n",
    "    - count\n",
    "        - 0.05 percentile\n",
    "        - 0.95 percentile\n"
   ]
  },
  {
   "cell_type": "markdown",
   "id": "cdf68192",
   "metadata": {},
   "source": [
    "- Visualize the results as a true color (for the mean, median and percentiles) and pseudo-color image for a pre- and post-SLC failure year (More background on the SLC-failure in https://www.usgs.gov/core-science-systems/nli/landsat/landsat-7?qt-science_support_page_related_con=0#qt-science_support_page_related_con )\n"
   ]
  },
  {
   "cell_type": "code",
   "execution_count": 22,
   "id": "75e97c3b",
   "metadata": {},
   "outputs": [],
   "source": [
    "pre_failure_coll = annual_comp(ls,2001)\n",
    "post_failure_coll = annual_comp(ls,2006)"
   ]
  },
  {
   "cell_type": "code",
   "execution_count": null,
   "id": "43a1c1a4",
   "metadata": {},
   "outputs": [],
   "source": []
  },
  {
   "cell_type": "code",
   "execution_count": 23,
   "id": "545a2ce2",
   "metadata": {},
   "outputs": [],
   "source": [
    "slc_map = geemap.Map(center=house_coords,zoom=10)\n",
    "slc_map = add_composites_to_map(pre_failure_coll,slc_map,'Pre failure')\n",
    "slc_map = add_composites_to_map(post_failure_coll,slc_map,'Post Failure')\n",
    "slc_map.add_ee_layer(pre_failure_coll.median(),vis_params={'bands':['B4','B3','B2'],'max':0,'min':0.4,'gamma': [0.95, 1.1, 1]})"
   ]
  },
  {
   "cell_type": "code",
   "execution_count": 24,
   "id": "a6893ee7",
   "metadata": {},
   "outputs": [
    {
     "data": {
      "application/vnd.jupyter.widget-view+json": {
       "model_id": "d53fcaf1529f4023a4b82f3b183ecfa1",
       "version_major": 2,
       "version_minor": 0
      },
      "text/plain": [
       "Map(center=[38, -76.21], controls=(WidgetControl(options=['position', 'transparent_bg'], widget=HBox(children=…"
      ]
     },
     "metadata": {},
     "output_type": "display_data"
    }
   ],
   "source": [
    "slc_map"
   ]
  },
  {
   "cell_type": "markdown",
   "id": "4c2223c1",
   "metadata": {},
   "source": [
    "\n",
    "- **Q1: What are the differences you observe between the different composites (e.g. number of scenes, cloud/noise/SLC artefacts, reflectance values and visual appearance) and explain their cause?**\n",
    "- **Q2: Discuss what the impact of these differences could be on subsequent big data analysis and how it might affect the veracity of the analysis.**"
   ]
  },
  {
   "cell_type": "markdown",
   "id": "5b2bfd27-1ebb-4a1f-b641-db719d57429c",
   "metadata": {
    "tags": []
   },
   "source": [
    "## Step 3 Greenest pixel composites\n",
    "- Use the map-principle to calculate the normalized difference vegetation index (NDVI) for every image and use this index to reduce the collection to a greenest pixel composite for every year.\n",
    "- Visualize the results and compare them to the results of Step 2."
   ]
  },
  {
   "cell_type": "code",
   "execution_count": null,
   "id": "0a800b8e-aebd-4a08-86ed-ae4e487903e8",
   "metadata": {},
   "outputs": [],
   "source": []
  },
  {
   "cell_type": "code",
   "execution_count": 25,
   "id": "d2d49f15-2af5-43a5-9e54-e275a6e431b8",
   "metadata": {},
   "outputs": [],
   "source": [
    "# first we make a function for NDVI\n",
    "def ndvi_func(image: ee.Image):\n",
    "    ndvi_band = image.normalizedDifference(['B4','B3'])\n",
    "    ndvi_band = ndvi_band.rename('NDVI')\n",
    "    image = image.addBands(ndvi_band)\n",
    "    return image"
   ]
  },
  {
   "cell_type": "code",
   "execution_count": 26,
   "id": "63c82798-faa9-4a33-9a45-bc705e6cb603",
   "metadata": {},
   "outputs": [],
   "source": [
    "# then we map the ndvi function to the image collection, which adds an NDVI band to each image in the collection\n",
    "ls_with_ndvi_band = ls.map(ndvi_func)\n",
    "# map the near-max NDVI (using the 95th percentile value excludes outliers)\n",
    "ndvi95 = annual_comp(ls_with_ndvi_band,2006).select('NDVI').reduce(ee.Reducer.percentile([95,]))\n",
    "greenest_pixel = annual_comp(ls_with_ndvi_band,1999).qualityMosaic('NDVI')\n",
    "\n"
   ]
  },
  {
   "cell_type": "code",
   "execution_count": 27,
   "id": "4d58a195-c1d3-4cf6-96c7-42a5a82af222",
   "metadata": {},
   "outputs": [
    {
     "data": {
      "application/vnd.jupyter.widget-view+json": {
       "model_id": "37603d28f97e4233b0b3201e07f1b0cf",
       "version_major": 2,
       "version_minor": 0
      },
      "text/plain": [
       "Map(center=[38, -76.21], controls=(WidgetControl(options=['position', 'transparent_bg'], widget=HBox(children=…"
      ]
     },
     "metadata": {},
     "output_type": "display_data"
    }
   ],
   "source": [
    "m = geemap.Map(center = house_coords,zoom=10)\n",
    "vp =  {'bands':[f'B3',f'B2',f'B1'],\n",
    "              'min':0,\n",
    "             'max':0.3,\n",
    "            'gamma': 1.2,\n",
    "              }\n",
    "#m.add_ee_layer(median_image,vis_params={'bands':['NDVI'],'min':-1,'max':1,'palette': ['blue', 'white', 'green']})\n",
    "m.add_ee_layer(ndvi95,vis_params={'bands':['NDVI_p95'],'min':-1,'max':1,'palette': ['blue', 'white', 'green']})\n",
    "m.add_ee_layer(greenest_pixel,vis_params=vp)\n",
    "m"
   ]
  },
  {
   "cell_type": "markdown",
   "id": "9706a733-b4ba-459a-a7ef-738889218479",
   "metadata": {},
   "source": [
    "- **Q3: What are the differences between the greenest pixel composite and the results of step 2 and explain their cause?**\n",
    "- **Q4: What are the advantages and potential disadvantages of using a quality mosaic?**"
   ]
  },
  {
   "cell_type": "markdown",
   "id": "0aee6c5e-328f-407f-b1e3-a163c89f18e7",
   "metadata": {
    "tags": []
   },
   "source": [
    "## Step 4 SLC- and cloud masking\n",
    "- Load the cloud+cloud-shadow mask for every image by extracting the BQA mask.\n",
    "- Apply different image dilation/ erosion / opening / closing operations on the BQA mask with different distances/iterations.\n",
    "- Update the mask with the dilated/ erosed / opened / closed BQA mask.\n",
    "- Pick one image and visualize the effect of the dilation/ erosion / opening / closing on the data."
   ]
  },
  {
   "cell_type": "code",
   "execution_count": 75,
   "id": "80fab2c4-4ab1-4af6-8cce-5c4136838cd6",
   "metadata": {},
   "outputs": [],
   "source": [
    "kernel = ee.Kernel.circle(radius=2,units='pixels')\n",
    "m = geemap.Map(center = house_coords,zoom=10)"
   ]
  },
  {
   "cell_type": "markdown",
   "id": "336093ee-f74e-4adb-b815-e44e0b19f366",
   "metadata": {},
   "source": [
    "asdf"
   ]
  },
  {
   "cell_type": "code",
   "execution_count": 76,
   "id": "483b9238-f151-432f-8b41-32c57d5ce9e9",
   "metadata": {},
   "outputs": [],
   "source": [
    "masklayer = cld_shdw_mask(ls.first()).select('cloudMask')\n",
    "masklayer_closed = masklayer.focal_max(kernel=kernel).focal_min(kernel=kernel)\n",
    "masklayer_opened = masklayer.focal_min(kernel=kernel).focal_max(kernel=kernel)"
   ]
  },
  {
   "cell_type": "code",
   "execution_count": 78,
   "id": "461a6644-a4d2-444c-8de6-36d766d0185f",
   "metadata": {},
   "outputs": [
    {
     "data": {
      "application/vnd.jupyter.widget-view+json": {
       "model_id": "41407e4617da4841ab2db10e6e264b14",
       "version_major": 2,
       "version_minor": 0
      },
      "text/plain": [
       "Map(bottom=394401.0, center=[40.75011800153818, -72.198543548584], controls=(WidgetControl(options=['position'…"
      ]
     },
     "metadata": {},
     "output_type": "display_data"
    }
   ],
   "source": [
    "m.centerObject(ls.first())\n",
    "m.add_ee_layer(cld_shdw_mask(ls.first()),vis_params=vp,name='true_color',shown=False)\n",
    "m.add_ee_layer(masklayer_closed,vis_params={'bands':['cloudMask'],'min':0,'max':1,'palette': ['blue', 'white', 'green']},name='closed')\n",
    "m.add_ee_layer(masklayer_opened,vis_params={'bands':['cloudMask'],'min':0,'max':1,'palette': ['blue', 'white', 'green']},name='open')\n",
    "m.add_ee_layer(masklayer,vis_params={'bands':['cloudMask'],'min':0,'max':1,'palette': ['blue', 'white', 'green']},name='normal')\n",
    "m"
   ]
  },
  {
   "cell_type": "markdown",
   "id": "69b881d2-f06c-443e-ae38-d81d33b206e0",
   "metadata": {},
   "source": [
    "- **Q5: Visualize and explain the differences of the different dilation/erosion/ opening/closing operations on the mask. What would be the different dis/advantages of the different methods?**"
   ]
  },
  {
   "cell_type": "markdown",
   "id": "f1ce2ac6",
   "metadata": {},
   "source": [
    "## Step 5 SLC-filling\n",
    "- Apply a map-reduce function to the USGS Landsat 7 Top of Atmosphere Reflectance Tier 1 since 2003 where you replace the missing SLC/cloud/shadow data of every image by:\n",
    "    - The median reflectance\n",
    "    - The mean reflectance\n",
    "    - The reflectance of the greenest pixel\n",
    "    - The reflectance of the pixel that is closest in time\n",
    "- Visualize two images (summer vs winter) where you illustrate the effect of the different filling scenarios.\n",
    "- **Q6: Visualize and explain the differences of the different filling scenarios. What would be the different dis/advantages of the different methods?**"
   ]
  },
  {
   "cell_type": "code",
   "execution_count": null,
   "id": "455201e1",
   "metadata": {},
   "outputs": [],
   "source": []
  }
 ],
 "metadata": {
  "interpreter": {
   "hash": "98b0a9b7b4eaaa670588a142fd0a9b87eaafe866f1db4228be72b4211d12040f"
  },
  "kernelspec": {
   "display_name": "Python 3 (ipykernel)",
   "language": "python",
   "name": "python3"
  },
  "language_info": {
   "codemirror_mode": {
    "name": "ipython",
    "version": 3
   },
   "file_extension": ".py",
   "mimetype": "text/x-python",
   "name": "python",
   "nbconvert_exporter": "python",
   "pygments_lexer": "ipython3",
   "version": "3.9.7"
  }
 },
 "nbformat": 4,
 "nbformat_minor": 5
}
