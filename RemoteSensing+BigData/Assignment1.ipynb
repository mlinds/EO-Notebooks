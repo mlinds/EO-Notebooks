{
 "cells": [
  {
   "cell_type": "markdown",
   "id": "9522bd67-54fa-4f89-87be-7e8adb1ceb2e",
   "metadata": {},
   "source": [
    "# Assignment 1\n",
    "Remote Sensing & Big Data\n",
    "Assignment 1\n",
    "In this assignment, you will implement the map-reduce principles and some basic image operations (e.g. morphological operations) on the Landsat 7 image collection in the Google Earth Engine (GEE). Below you find the different steps to perform and the questions that come with these steps.\n",
    "\n",
    "When handing in the assignment on Brightspace, we ask you to upload the following:\n",
    "\n",
    "- Your GEE scripts:\n",
    "- When working in the javascript/web-interface: please add your code as appendix to your report (e.g. printed as pdf) and a hyperlink to the working code on GEE.\n",
    "- When working in the python-interface: please add your jupyter-notebook and a printed version (e.g. as pdf) of this notebook.\n",
    "- A motivation for each step in your code. This can be done as comments in your code or separate in the report.\n",
    "- Response to the questions, which are highlighted in red.\n",
    "\n",
    "If you do not provide your code and/or motivation for each step, we will not grade the assignment resulting in a fail score.\n"
   ]
  },
  {
   "cell_type": "code",
   "execution_count": 105,
   "id": "6229dbdb-bdcf-4a68-a0cf-ea95cd490a8a",
   "metadata": {},
   "outputs": [],
   "source": [
    "import ee\n",
    "import geemap\n",
    "from geemap import cartoee\n",
    "import cartopy.crs as ccrs"
   ]
  },
  {
   "cell_type": "code",
   "execution_count": 5,
   "id": "5ffe56ef-3229-4d59-ad2a-18c1671b0e76",
   "metadata": {},
   "outputs": [],
   "source": [
    "def setup():\n",
    "    ee.Authenticate()\n",
    "    ee.Initialize()"
   ]
  },
  {
   "cell_type": "markdown",
   "id": "662c73ab-bc48-4b95-ad0e-27b877501db2",
   "metadata": {
    "tags": []
   },
   "source": [
    "## Step 1 Data loading\n",
    "- Load the USGS Landsat 7 Top of Atmosphere Reflectance Tier 1 data over a region of your interest. FYI: if you want to know what the difference between the different Tiers is: https://www.usgs.gov/media/videos/landsat-collections-what-are-tiers"
   ]
  },
  {
   "cell_type": "code",
   "execution_count": 38,
   "id": "2e3a66a1-8a44-491a-b93c-c2d18959a365",
   "metadata": {},
   "outputs": [],
   "source": [
    "house_coords = [38, -76.21]  # lat long\n",
    "box_size= 0.1  # in degrees\n",
    "bbox_coord = [house_coords[1]-box_size,house_coords[0]-box_size,house_coords[1]+box_size,house_coords[0]+box_size]\n",
    "\n",
    "roi = ee.Geometry.BBox(*bbox_coord)\n",
    "ls = ee.ImageCollection(\"LANDSAT/LE07/C01/T1_TOA\").filterBounds(roi)\n",
    "Map = geemap.Map(center = house_coords,zoom=8)\n",
    "Map.addLayerControl()"
   ]
  },
  {
   "cell_type": "code",
   "execution_count": 106,
   "id": "0dc58ab3-4059-4887-b6d1-df84ba1724e1",
   "metadata": {},
   "outputs": [
    {
     "ename": "SyntaxError",
     "evalue": "invalid syntax (2588792236.py, line 1)",
     "output_type": "error",
     "traceback": [
      "\u001b[0;36m  File \u001b[0;32m\"/tmp/ipykernel_30/2588792236.py\"\u001b[0;36m, line \u001b[0;32m1\u001b[0m\n\u001b[0;31m    def map_image(image)\u001b[0m\n\u001b[0m                        ^\u001b[0m\n\u001b[0;31mSyntaxError\u001b[0m\u001b[0;31m:\u001b[0m invalid syntax\n"
     ]
    }
   ],
   "source": [
    "def map_image(image):\n",
    "    projection = ccrs.epsg(26985)\n",
    "    vis = {'min':0,'max':0.4} # define visualization parameters for image\n",
    "    fig = plt.figure(figsize=(10,7))\n",
    "\n",
    "    # use cartoee to get a map\n",
    "    ax = cartoee.get_map(srtm,region=bbox_coord,vis_params=vis,proj=projection)\n",
    "\n",
    "    # add gridlines to the map at a specified interval\n",
    "    cartoee.add_gridlines(ax,interval=[60,30],linestyle=\":\")\n",
    "\n",
    "    # add coastlines using the cartopy api\n",
    "    ax.coastlines(color=\"red\")\n",
    "\n",
    "    plt.show()\n"
   ]
  },
  {
   "cell_type": "code",
   "execution_count": 56,
   "id": "48f17b2e-7ead-4e43-8e62-1dd38e3ce0d8",
   "metadata": {},
   "outputs": [],
   "source": [
    "def add_composites_to_map(imcollection: ee.ImageCollection,m: geemap.Map,Icname):\n",
    "    \"\"\"\n",
    "    Accepts an image collection, a map, and a name for this image colection\n",
    "    \n",
    "    returns the map with mean, median, count, 0.05 cut and 0.95 percentile cut of the image collection\n",
    "    \"\"\"\n",
    "    # add count first because we \n",
    "    m.add_ee_layer(imcollection.reduce(ee.Reducer.count()),name='count')\n",
    "    \n",
    "    reducers = {\n",
    "        'mean':ee.Reducer.mean(),\n",
    "        'median':ee.Reducer.median(),\n",
    "        'p5':ee.Reducer.percentile(percentiles=[5]),\n",
    "        'p95':ee.Reducer.percentile(percentiles=[95])           \n",
    "    }\n",
    "    \n",
    "    for x in reducers:\n",
    "        name = x\n",
    "        reducer = reducers[x]\n",
    "        reduced_image = imcollection.reduce(reducer)\n",
    "        vp =  {'bands':[f'B3_{name}',f'B2_{name}',f'B1_{name}'],\n",
    "          'min':0,\n",
    "          'max':0.4,\n",
    "        'gamma': 1.2,\n",
    "         #'bias':-0.2,\n",
    "         #'gain': 0.1\n",
    "                }\n",
    "        m.add_ee_layer(reduced_image,vis_params=vp,name=Icname+'-'+name)\n",
    "    \n",
    "    \n",
    "    return m\n",
    "    "
   ]
  },
  {
   "cell_type": "markdown",
   "id": "3ed150f8-214e-466d-a224-efccd703e116",
   "metadata": {
    "tags": []
   },
   "source": [
    "## Step 2 Naive annual composites\n",
    "- Apply the map-reduce principle to convert the image collection of Step 1 into annual composites with different filtering & reducing conditions. Within this step, implement:\n",
    "    - A: Different filtering conditions based cloud cover metadata:\n",
    "        - a1: no filtering"
   ]
  },
  {
   "cell_type": "code",
   "execution_count": 60,
   "id": "276a6b99-b911-4ed6-99fb-a24578b8ce9b",
   "metadata": {},
   "outputs": [],
   "source": [
    "a1 = ls\n",
    "Map = add_composites_to_map(a1,Map,'a1')"
   ]
  },
  {
   "cell_type": "markdown",
   "id": "ae86607a-4de6-47ce-afb1-fe2045872675",
   "metadata": {},
   "source": [
    "        - a2: filtering on <50% cloud cover "
   ]
  },
  {
   "cell_type": "code",
   "execution_count": 61,
   "id": "9f1bcce5-4cf5-4866-b5bd-29ab04de77b0",
   "metadata": {},
   "outputs": [],
   "source": [
    "a2 = ls.filterMetadata('CLOUD_COVER','less_than',50)\n",
    "Map = add_composites_to_map(a2,Map,'a2')"
   ]
  },
  {
   "cell_type": "markdown",
   "id": "8417c5ec-66d0-4629-9476-7d215e4219a1",
   "metadata": {},
   "source": [
    "        - a3: filtering in <20% cloud cover"
   ]
  },
  {
   "cell_type": "code",
   "execution_count": 63,
   "id": "94f6eb28-a235-4b23-a4da-028a5bed2a13",
   "metadata": {},
   "outputs": [],
   "source": [
    "a3 = ls.filterMetadata('CLOUD_COVER','less_than',20)\n",
    "Map = add_composites_to_map(a3,Map,'ac3')"
   ]
  },
  {
   "cell_type": "code",
   "execution_count": 64,
   "id": "5e9c9536-5803-40a5-b41b-e4439b7f5544",
   "metadata": {},
   "outputs": [
    {
     "data": {
      "application/vnd.jupyter.widget-view+json": {
       "model_id": "6b996697c447494f98b734115bbf5894",
       "version_major": 2,
       "version_minor": 0
      },
      "text/plain": [
       "Map(bottom=25579.0, center=[38, -76.21], controls=(WidgetControl(options=['position', 'transparent_bg'], widge…"
      ]
     },
     "metadata": {},
     "output_type": "display_data"
    }
   ],
   "source": [
    "Map"
   ]
  },
  {
   "cell_type": "markdown",
   "id": "3316104c-6f1a-485f-88a8-943082128e1d",
   "metadata": {},
   "source": [
    "- B: Use the result of a2 and test the effect of masking the clouds & cloud-shadows using the BQA bitmask: \n",
    "    - b0: without cloud masking "
   ]
  },
  {
   "cell_type": "code",
   "execution_count": 91,
   "id": "1d80416c-0dbc-4489-8319-1b3f94192705",
   "metadata": {},
   "outputs": [],
   "source": [
    "Map = geemap.Map(center = house_coords,zoom=10)"
   ]
  },
  {
   "cell_type": "code",
   "execution_count": 75,
   "id": "0adc1c71-7529-4d18-97dc-535ce892169a",
   "metadata": {},
   "outputs": [],
   "source": [
    "b0 = ls.filterMetadata('CLOUD_COVER','less_than',50)\n",
    "\n",
    "Map = add_composites_to_map(b0,Map,'No Masking')"
   ]
  },
  {
   "cell_type": "markdown",
   "id": "97585f12-8c80-446c-89fd-df78944ba784",
   "metadata": {},
   "source": [
    "    - b1: with the clouds masked "
   ]
  },
  {
   "cell_type": "code",
   "execution_count": 76,
   "id": "58636880-4a8c-4cee-8b59-79750f4531ee",
   "metadata": {},
   "outputs": [],
   "source": [
    "def cld_mask(image: ee.Image):\n",
    "    cloudbit = 1 << 4\n",
    "    bqa = image.select('BQA')\n",
    "    cloudmask = bqa.bitwise_and(cloudbit).eq(0)\n",
    "    cloudmask = cloudmask.rename(['cloudMask'])\n",
    "    image = image.addBands(cloudmask)\n",
    "    image.updateMask('cloudMask')\n",
    "    return image"
   ]
  },
  {
   "cell_type": "code",
   "execution_count": 77,
   "id": "c936e445-63f8-4e7b-8626-43fd1b6e7ab5",
   "metadata": {},
   "outputs": [],
   "source": [
    "b1 = b0.map(cld_mask)\n",
    "Map = add_composites_to_map(b1,Map,'Cloud Masking')"
   ]
  },
  {
   "cell_type": "markdown",
   "id": "502b95f4-b033-4fee-bd29-32473b6b536e",
   "metadata": {},
   "source": [
    "    - b2: with clouds and shadow masked\n",
    "    "
   ]
  },
  {
   "cell_type": "code",
   "execution_count": 78,
   "id": "9dc59431-7620-4e4e-8ee9-5eacdedf348a",
   "metadata": {},
   "outputs": [],
   "source": [
    "def cld_shdw_mask(image):\n",
    "    cloudbit = 1 << 4\n",
    "    cloudshadowbit = 3 << 7\n",
    "    bqa = image.select('BQA')\n",
    "    cloudmask = bqa.bitwise_and(cloudbit+cloudshadowbit).eq(0)\n",
    "    cloudmask = cloudmask.rename(['cloudMask'])\n",
    "    image = image.addBands(cloudmask)\n",
    "    image.updateMask('cloudMask')\n",
    "    return image"
   ]
  },
  {
   "cell_type": "code",
   "execution_count": 103,
   "id": "005a5bbb-a49a-47bf-b488-dbd9bc8cdc77",
   "metadata": {},
   "outputs": [],
   "source": [
    "b2 = b0.map(cld_shdw_mask)\n",
    "\n",
    "Map = add_composites_to_map(b2,Map,'Cloud and Shadow masking')"
   ]
  },
  {
   "cell_type": "code",
   "execution_count": 104,
   "id": "79589223-c2fd-442d-8651-10720236fd7e",
   "metadata": {},
   "outputs": [
    {
     "data": {
      "application/vnd.jupyter.widget-view+json": {
       "model_id": "c9336219ef5241d896b81dea94422e0e",
       "version_major": 2,
       "version_minor": 0
      },
      "text/plain": [
       "Map(center=[38.00049145082287, -76.20941162109376], controls=(WidgetControl(options=['position', 'transparent_…"
      ]
     },
     "metadata": {},
     "output_type": "display_data"
    }
   ],
   "source": [
    "Map"
   ]
  },
  {
   "cell_type": "markdown",
   "id": "0df27d80-de59-4287-9014-0831f0c215c8",
   "metadata": {},
   "source": [
    "- C: For every step of A&B visualize different reducers for the RGB-bands: \n",
    "    - mean \n",
    "    - median \n",
    "    - count\n",
    "        - 0.05 percentile\n",
    "        - 0.95 percentile\n",
    "- Visualize the results as a true color (for the mean, median and percentiles) and pseudo-color image for a pre- and post-SLC failure year (More background on the SLC-failure in https://www.usgs.gov/core-science-systems/nli/landsat/landsat-7?qt-science_support_page_related_con=0#qt-science_support_page_related_con )\n",
    "- **Q1: What are the differences you observe between the different composites (e.g. number of scenes, cloud/noise/SLC artefacts, reflectance values and visual appearance) and explain their cause?**\n",
    "- **Q2: Discuss what the impact of these differences could be on subsequent big data analysis and how it might affect the veracity of the analysis.**"
   ]
  },
  {
   "cell_type": "markdown",
   "id": "9be6d203-1437-4997-8300-c0874ebb9b89",
   "metadata": {},
   "source": [
    "## Step 3 Greenest pixel composites\n",
    "- Use the map-principle to calculate the normalized difference vegetation index (NDVI) for every image and use this index to reduce the collection to a greenest pixel composite for every year.\n",
    "- Visualize the results and compare them to the results of Step 2.\n",
    "- **Q3: What are the differences between the greenest pixel composite and the results of step 2 and explain their cause?**\n",
    "- **Q4: What are the advantages and potential disadvantages of using a quality mosaic?**"
   ]
  },
  {
   "cell_type": "markdown",
   "id": "5c8af76b-b3ac-44b4-939d-57e5a6a49a1f",
   "metadata": {},
   "source": [
    "## Step 4 SLC- and cloud masking\n",
    "- Load the cloud+cloud-shadow mask for every image by extracting the BQA mask.\n",
    "- Apply different image dilation/ erosion / opening / closing operations on the BQA mask with different distances/iterations.\n",
    "- Update the mask with the dilated/ erosed / opened / closed BQA mask.\n",
    "- Pick one image and visualize the effect of the dilation/ erosion / opening / closing on the data.\n",
    "- **Q5: Visualize and explain the differences of the different dilation/erosion/ opening/closing operations on the mask. What would be the different dis/advantages of the different methods?**"
   ]
  },
  {
   "cell_type": "markdown",
   "id": "0c05b637-2e46-487f-a319-6e7a8d93af1d",
   "metadata": {},
   "source": [
    "## Step 5 SLC-filling\n",
    "- Apply a map-reduce function to the USGS Landsat 7 Top of Atmosphere Reflectance Tier 1 since 2003 where you replace the missing SLC/cloud/shadow data of every image by:\n",
    "    - The median reflectance\n",
    "    - The mean reflectance\n",
    "    - The reflectance of the greenest pixel\n",
    "    - The reflectance of the pixel that is closest in time\n",
    "- Visualize two images (summer vs winter) where you illustrate the effect of the different filling scenarios.\n",
    "- **Q6: Visualize and explain the differences of the different filling scenarios. What would be the different dis/advantages of the different methods?**"
   ]
  },
  {
   "cell_type": "code",
   "execution_count": null,
   "id": "d07c3a65-de6f-4cc4-92e5-65f6cd8ba3df",
   "metadata": {},
   "outputs": [],
   "source": []
  }
 ],
 "metadata": {
  "kernelspec": {
   "display_name": "Python 3 (ipykernel)",
   "language": "python",
   "name": "python3"
  },
  "language_info": {
   "codemirror_mode": {
    "name": "ipython",
    "version": 3
   },
   "file_extension": ".py",
   "mimetype": "text/x-python",
   "name": "python",
   "nbconvert_exporter": "python",
   "pygments_lexer": "ipython3",
   "version": "3.9.7"
  }
 },
 "nbformat": 4,
 "nbformat_minor": 5
}
