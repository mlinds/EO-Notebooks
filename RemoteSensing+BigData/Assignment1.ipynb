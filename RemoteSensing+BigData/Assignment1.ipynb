{
 "cells": [
  {
   "cell_type": "markdown",
   "id": "9522bd67-54fa-4f89-87be-7e8adb1ceb2e",
   "metadata": {},
   "source": [
    "# Assignment 1\n",
    "Remote Sensing & Big Data\n",
    "Assignment 1\n",
    "In this assignment, you will implement the map-reduce principles and some basic image operations (e.g. morphological operations) on the Landsat 7 image collection in the Google Earth Engine (GEE). Below you find the different steps to perform and the questions that come with these steps.\n",
    "\n",
    "When handing in the assignment on Brightspace, we ask you to upload the following:\n",
    "\n",
    "- Your GEE scripts:\n",
    "- When working in the javascript/web-interface: please add your code as appendix to your report (e.g. printed as pdf) and a hyperlink to the working code on GEE.\n",
    "- When working in the python-interface: please add your jupyter-notebook and a printed version (e.g. as pdf) of this notebook.\n",
    "- A motivation for each step in your code. This can be done as comments in your code or separate in the report.\n",
    "- Response to the questions, which are highlighted in red.\n",
    "\n",
    "If you do not provide your code and/or motivation for each step, we will not grade the assignment resulting in a fail score.\n"
   ]
  },
  {
   "cell_type": "code",
   "execution_count": 1,
   "id": "6229dbdb-bdcf-4a68-a0cf-ea95cd490a8a",
   "metadata": {},
   "outputs": [],
   "source": [
    "import ee\n",
    "import geemap\n",
    "from geemap import cartoee\n",
    "import cartopy.crs as ccrs\n",
    "import matplotlib.pyplot as plt"
   ]
  },
  {
   "cell_type": "code",
   "execution_count": 2,
   "id": "5ffe56ef-3229-4d59-ad2a-18c1671b0e76",
   "metadata": {},
   "outputs": [
    {
     "data": {
      "text/html": [
       "<p>To authorize access needed by Earth Engine, open the following\n",
       "        URL in a web browser and follow the instructions:</p>\n",
       "        <p><a href=https://accounts.google.com/o/oauth2/auth?client_id=517222506229-vsmmajv00ul0bs7p89v5m89qs8eb9359.apps.googleusercontent.com&scope=https%3A%2F%2Fwww.googleapis.com%2Fauth%2Fearthengine+https%3A%2F%2Fwww.googleapis.com%2Fauth%2Fdevstorage.full_control&redirect_uri=urn%3Aietf%3Awg%3Aoauth%3A2.0%3Aoob&response_type=code&code_challenge=Fq179tv3EX_VnnN8S-d39RKLe-NKGQf2ZRn3ej6wGoI&code_challenge_method=S256>https://accounts.google.com/o/oauth2/auth?client_id=517222506229-vsmmajv00ul0bs7p89v5m89qs8eb9359.apps.googleusercontent.com&scope=https%3A%2F%2Fwww.googleapis.com%2Fauth%2Fearthengine+https%3A%2F%2Fwww.googleapis.com%2Fauth%2Fdevstorage.full_control&redirect_uri=urn%3Aietf%3Awg%3Aoauth%3A2.0%3Aoob&response_type=code&code_challenge=Fq179tv3EX_VnnN8S-d39RKLe-NKGQf2ZRn3ej6wGoI&code_challenge_method=S256</a></p>\n",
       "        <p>The authorization workflow will generate a code, which you\n",
       "        should paste in the box below</p>\n",
       "        "
      ],
      "text/plain": [
       "<IPython.core.display.HTML object>"
      ]
     },
     "metadata": {},
     "output_type": "display_data"
    },
    {
     "name": "stdin",
     "output_type": "stream",
     "text": [
      "Enter verification code:  4/1AX4XfWjzrGag2IAFQ9GxlczZyK_PcDIFjWrxw9tKYE60HhEhhfMR5J0nXSI\n"
     ]
    },
    {
     "name": "stdout",
     "output_type": "stream",
     "text": [
      "\n",
      "Successfully saved authorization token.\n"
     ]
    }
   ],
   "source": [
    "def setup():\n",
    "    ee.Authenticate()\n",
    "    ee.Initialize()\n",
    "setup()"
   ]
  },
  {
   "cell_type": "code",
   "execution_count": 3,
   "id": "0dc58ab3-4059-4887-b6d1-df84ba1724e1",
   "metadata": {
    "jupyter": {
     "source_hidden": true
    },
    "tags": []
   },
   "outputs": [],
   "source": [
    "def map_image(image,name):\n",
    "    projection = ccrs.epsg(26985)\n",
    "    vp =  {'bands':[f'B3_{name}',f'B2_{name}',f'B1_{name}'],\n",
    "              'min':0,\n",
    "             'max':0.4,\n",
    "            'gamma': 1.2,\n",
    "              }\n",
    "        \n",
    "    fig = plt.figure(figsize=(10,7))\n",
    "\n",
    "    # use cartoee to get a map\n",
    "    ax = cartoee.get_map(image,region=bbox_coord,vis_params=vp,proj=projection)\n",
    "\n",
    "    # add gridlines to the map at a specified interval\n",
    "    #cartoee.add_gridlines(ax,interval=[60,30],linestyle=\":\")\n",
    "\n",
    "    # add coastlines using the cartopy api\n",
    "    #ax.coastlines(color=\"red\")\n",
    "\n",
    "    plt.show()"
   ]
  },
  {
   "cell_type": "code",
   "execution_count": 4,
   "id": "90ed15b2-a5db-4395-adca-36f9c4aef13e",
   "metadata": {
    "jupyter": {
     "source_hidden": true
    },
    "tags": []
   },
   "outputs": [],
   "source": [
    "def make_reduced_images(imcollection: ee.ImageCollection,Icname):\n",
    "    \"\"\"\n",
    "    Accepts an image collection, applies the four reducers\n",
    "\n",
    "    returns dictionary of reducer:image with\n",
    "    \"\"\"\n",
    "    # set up empty dict\n",
    "    reduced_images = {}\n",
    "\n",
    "    reducers = {\n",
    "    'mean':ee.Reducer.mean(),\n",
    "    'median':ee.Reducer.median(),\n",
    "    'p5':ee.Reducer.percentile(percentiles=[5]),\n",
    "    'p95':ee.Reducer.percentile(percentiles=[95])           \n",
    "    }\n",
    "\n",
    "    for x in reducers:\n",
    "        name = x\n",
    "        reducer = reducers[x]\n",
    "        reduced_image = imcollection.reduce(reducer)\n",
    "        assert type(name) == str  # check that \n",
    "        assert type(reduced_image) == ee.Image\n",
    "        reduced_images.update({name:reduced_image})\n",
    "\n",
    "    return reduced_images"
   ]
  },
  {
   "cell_type": "code",
   "execution_count": 5,
   "id": "63fdda58-ae99-4995-bb70-2c4bacc05e2f",
   "metadata": {
    "jupyter": {
     "source_hidden": true
    },
    "tags": []
   },
   "outputs": [],
   "source": [
    "def map_reduced_images(imcollection: ee.ImageCollection):\n",
    "    reduced_images = make_reduced_images(imcollection,'_')\n",
    "    for reduced_image_name in reduced_images:\n",
    "        print(f'Mapping {reduced_image_name}')\n",
    "        reduced_image = reduced_images[reduced_image_name]\n",
    "        map_image(reduced_image,reduced_image_name)\n",
    "        "
   ]
  },
  {
   "cell_type": "code",
   "execution_count": 6,
   "id": "48f17b2e-7ead-4e43-8e62-1dd38e3ce0d8",
   "metadata": {
    "tags": []
   },
   "outputs": [],
   "source": [
    "def add_composites_to_map(imcollection: ee.ImageCollection,m: geemap.Map,Icname):\n",
    "    \"\"\"\n",
    "    Accepts an image collection, a map, and a name for this image colection\n",
    "    \n",
    "    returns the map with mean, median, count, 0.05 cut and 0.95 percentile cut of the image collection\n",
    "    \"\"\"\n",
    "    # add count first because we \n",
    "    m.add_ee_layer(imcollection.reduce(ee.Reducer.count()),name='count')\n",
    "    \n",
    "    images = make_reduced_images(imcollection,Icname)\n",
    "    \n",
    "    for imagename in images:\n",
    "        name = imagename\n",
    "        reduced_image = images[imagename]\n",
    "        vp =  {'bands':[f'B3_{name}',f'B2_{name}',f'B1_{name}'],\n",
    "              'min':0,\n",
    "             'max':0.4,\n",
    "            'gamma': 1.2,\n",
    "              }\n",
    "        \n",
    "        m.add_ee_layer(reduced_image,vis_params=vp,name=Icname+'-'+name)\n",
    "        \n",
    "    return m\n",
    "    "
   ]
  },
  {
   "cell_type": "markdown",
   "id": "662c73ab-bc48-4b95-ad0e-27b877501db2",
   "metadata": {
    "tags": []
   },
   "source": [
    "## Step 1 Data loading\n",
    "- Load the USGS Landsat 7 Top of Atmosphere Reflectance Tier 1 data over a region of your interest. FYI: if you want to know what the difference between the different Tiers is: https://www.usgs.gov/media/videos/landsat-collections-what-are-tiers"
   ]
  },
  {
   "cell_type": "code",
   "execution_count": 66,
   "id": "2e3a66a1-8a44-491a-b93c-c2d18959a365",
   "metadata": {},
   "outputs": [],
   "source": [
    "house_coords = [38, -76.21]  # lat long\n",
    "box_size= 0.01  # in degrees\n",
    "bbox_coord = [house_coords[1]-box_size,house_coords[0]-box_size,house_coords[1]+box_size,house_coords[0]+box_size]\n",
    "\n",
    "roi = ee.Geometry.BBox(*bbox_coord)\n",
    "\n",
    "Map = geemap.Map(center = house_coords,zoom=8)\n",
    "Map.addLayerControl()\n",
    "\n",
    "ls = ee.ImageCollection(\"LANDSAT/LE07/C01/T1_TOA\").filterBounds(roi)"
   ]
  },
  {
   "cell_type": "markdown",
   "id": "3ed150f8-214e-466d-a224-efccd703e116",
   "metadata": {
    "tags": []
   },
   "source": [
    "## Step 2 Naive annual composites\n",
    "- Apply the map-reduce principle to convert the image collection of Step 1 into annual composites with different filtering & reducing conditions. Within this step, implement:\n",
    "    - A: Different filtering conditions based cloud cover metadata:\n",
    "        - a1: no filtering"
   ]
  },
  {
   "cell_type": "code",
   "execution_count": 67,
   "id": "276a6b99-b911-4ed6-99fb-a24578b8ce9b",
   "metadata": {},
   "outputs": [],
   "source": [
    "a1 = ls # a1 is just the landsat with no filtering\n",
    "Map = add_composites_to_map(a1,Map,'a1')"
   ]
  },
  {
   "cell_type": "markdown",
   "id": "ae86607a-4de6-47ce-afb1-fe2045872675",
   "metadata": {},
   "source": [
    "        - a2: filtering on <50% cloud cover "
   ]
  },
  {
   "cell_type": "code",
   "execution_count": 68,
   "id": "9f1bcce5-4cf5-4866-b5bd-29ab04de77b0",
   "metadata": {},
   "outputs": [],
   "source": [
    "a2 = ls.filterMetadata('CLOUD_COVER','less_than',50)\n",
    "Map = add_composites_to_map(a2,Map,'a2')"
   ]
  },
  {
   "cell_type": "markdown",
   "id": "8417c5ec-66d0-4629-9476-7d215e4219a1",
   "metadata": {},
   "source": [
    "        - a3: filtering in <20% cloud cover"
   ]
  },
  {
   "cell_type": "code",
   "execution_count": 69,
   "id": "94f6eb28-a235-4b23-a4da-028a5bed2a13",
   "metadata": {},
   "outputs": [],
   "source": [
    "a3 = ls.filterMetadata('CLOUD_COVER','less_than',20)\n",
    "Map = add_composites_to_map(a3,Map,'ac3')"
   ]
  },
  {
   "cell_type": "code",
   "execution_count": 70,
   "id": "5e9c9536-5803-40a5-b41b-e4439b7f5544",
   "metadata": {},
   "outputs": [
    {
     "data": {
      "application/vnd.jupyter.widget-view+json": {
       "model_id": "a226a4e5823342069197c0a56cd0da9c",
       "version_major": 2,
       "version_minor": 0
      },
      "text/plain": [
       "Map(center=[38, -76.21], controls=(WidgetControl(options=['position', 'transparent_bg'], widget=HBox(children=…"
      ]
     },
     "metadata": {},
     "output_type": "display_data"
    }
   ],
   "source": [
    "Map"
   ]
  },
  {
   "cell_type": "markdown",
   "id": "3316104c-6f1a-485f-88a8-943082128e1d",
   "metadata": {},
   "source": [
    "- B: Use the result of a2 and test the effect of masking the clouds & cloud-shadows using the BQA bitmask: \n",
    "    - b0: without cloud masking "
   ]
  },
  {
   "cell_type": "code",
   "execution_count": 71,
   "id": "1d80416c-0dbc-4489-8319-1b3f94192705",
   "metadata": {},
   "outputs": [],
   "source": [
    "Map = geemap.Map(center = house_coords,zoom=10)"
   ]
  },
  {
   "cell_type": "code",
   "execution_count": 72,
   "id": "0adc1c71-7529-4d18-97dc-535ce892169a",
   "metadata": {},
   "outputs": [],
   "source": [
    "b0 = ls.filterMetadata('CLOUD_COVER','less_than',50)\n",
    "\n",
    "Map = add_composites_to_map(b0,Map,'No Masking')"
   ]
  },
  {
   "cell_type": "markdown",
   "id": "97585f12-8c80-446c-89fd-df78944ba784",
   "metadata": {},
   "source": [
    "    - b1: with the clouds masked "
   ]
  },
  {
   "cell_type": "code",
   "execution_count": 73,
   "id": "58636880-4a8c-4cee-8b59-79750f4531ee",
   "metadata": {},
   "outputs": [],
   "source": [
    "def cld_mask(image: ee.Image):\n",
    "    cloudbit = 1 << 4\n",
    "    bqa = image.select('BQA')\n",
    "    cloudmask = bqa.bitwise_and(cloudbit).eq(0)\n",
    "    cloudmask = cloudmask.rename(['cloudMask'])\n",
    "    image = image.addBands(cloudmask)\n",
    "    image.updateMask('cloudMask')\n",
    "    return image"
   ]
  },
  {
   "cell_type": "code",
   "execution_count": 74,
   "id": "c936e445-63f8-4e7b-8626-43fd1b6e7ab5",
   "metadata": {},
   "outputs": [],
   "source": [
    "b1 = b0.map(cld_mask)\n",
    "Map = add_composites_to_map(b1,Map,'Cloud Masking')"
   ]
  },
  {
   "cell_type": "markdown",
   "id": "502b95f4-b033-4fee-bd29-32473b6b536e",
   "metadata": {},
   "source": [
    "    - b2: with clouds and shadow masked\n",
    "    "
   ]
  },
  {
   "cell_type": "code",
   "execution_count": 75,
   "id": "946aed87-585d-4f34-87b1-effe81131b51",
   "metadata": {},
   "outputs": [
    {
     "name": "stdout",
     "output_type": "stream",
     "text": [
      "0b11000000\n"
     ]
    }
   ],
   "source": [
    "print(bin(3 << 6))"
   ]
  },
  {
   "cell_type": "code",
   "execution_count": 76,
   "id": "9dc59431-7620-4e4e-8ee9-5eacdedf348a",
   "metadata": {},
   "outputs": [],
   "source": [
    "def cld_shdw_mask(image):\n",
    "    cloudbit = 1 << 4\n",
    "    cloudshadowbit = 3 << 6\n",
    "    bqa = image.select('BQA')\n",
    "    cloudmask = bqa.bitwise_and(cloudbit+cloudshadowbit).eq(0)\n",
    "    cloudmask = cloudmask.rename(['cloudMask'])\n",
    "    image = image.addBands(cloudmask)\n",
    "    image.updateMask('cloudMask')\n",
    "    return image"
   ]
  },
  {
   "cell_type": "code",
   "execution_count": 77,
   "id": "005a5bbb-a49a-47bf-b488-dbd9bc8cdc77",
   "metadata": {},
   "outputs": [
    {
     "data": {
      "application/vnd.jupyter.widget-view+json": {
       "model_id": "2aa5901380144b7eb80f4cee1d052121",
       "version_major": 2,
       "version_minor": 0
      },
      "text/plain": [
       "Map(center=[38, -76.21], controls=(WidgetControl(options=['position', 'transparent_bg'], widget=HBox(children=…"
      ]
     },
     "metadata": {},
     "output_type": "display_data"
    }
   ],
   "source": [
    "b2 = b0.map(cld_shdw_mask)\n",
    "\n",
    "Map = add_composites_to_map(b2,Map,'Cloud and Shadow masking')\n",
    "Map"
   ]
  },
  {
   "cell_type": "code",
   "execution_count": 85,
   "id": "21af2a90-0fd0-4e54-a37b-407017453ccc",
   "metadata": {
    "tags": []
   },
   "outputs": [
    {
     "data": {
      "application/vnd.jupyter.widget-view+json": {
       "model_id": "f80ddf69f19b43ecb47391cd99d5e505",
       "version_major": 2,
       "version_minor": 0
      },
      "text/plain": [
       "Map(center=[38, -76.21], controls=(WidgetControl(options=['position', 'transparent_bg'], widget=HBox(children=…"
      ]
     },
     "metadata": {},
     "output_type": "display_data"
    }
   ],
   "source": [
    "m = geemap.Map(center = house_coords,zoom=10)\n",
    "vp =  {'bands':['cloudMask'],\n",
    "              'min':0,\n",
    "             'max':1,\n",
    "            'gamma': 1.2,\n",
    "              }\n",
    "#m.add_ee_layer(b0.mean(),vis_params=vp)\n",
    "m.add_ee_layer(b0.map(cld_mask).mean(),vis_params=vp)\n",
    "m.add_ee_layer(b0.map(cld_shdw_mask).mean(),vis_params=vp)\n",
    "m"
   ]
  },
  {
   "cell_type": "markdown",
   "id": "0df27d80-de59-4287-9014-0831f0c215c8",
   "metadata": {},
   "source": [
    "- C: For every step of A&B visualize different reducers for the RGB-bands: \n",
    "    - mean \n",
    "    - median \n",
    "    - count\n",
    "        - 0.05 percentile\n",
    "        - 0.95 percentile\n",
    "- Visualize the results as a true color (for the mean, median and percentiles) and pseudo-color image for a pre- and post-SLC failure year (More background on the SLC-failure in https://www.usgs.gov/core-science-systems/nli/landsat/landsat-7?qt-science_support_page_related_con=0#qt-science_support_page_related_con )\n",
    "- **Q1: What are the differences you observe between the different composites (e.g. number of scenes, cloud/noise/SLC artefacts, reflectance values and visual appearance) and explain their cause?**\n",
    "- **Q2: Discuss what the impact of these differences could be on subsequent big data analysis and how it might affect the veracity of the analysis.**"
   ]
  },
  {
   "cell_type": "markdown",
   "id": "9be6d203-1437-4997-8300-c0874ebb9b89",
   "metadata": {},
   "source": [
    "## Step 3 Greenest pixel composites\n",
    "- Use the map-principle to calculate the normalized difference vegetation index (NDVI) for every image and use this index to reduce the collection to a greenest pixel composite for every year.\n",
    "- Visualize the results and compare them to the results of Step 2.\n",
    "- **Q3: What are the differences between the greenest pixel composite and the results of step 2 and explain their cause?**\n",
    "- **Q4: What are the advantages and potential disadvantages of using a quality mosaic?**"
   ]
  },
  {
   "cell_type": "markdown",
   "id": "5c8af76b-b3ac-44b4-939d-57e5a6a49a1f",
   "metadata": {},
   "source": [
    "## Step 4 SLC- and cloud masking\n",
    "- Load the cloud+cloud-shadow mask for every image by extracting the BQA mask.\n",
    "- Apply different image dilation/ erosion / opening / closing operations on the BQA mask with different distances/iterations.\n",
    "- Update the mask with the dilated/ erosed / opened / closed BQA mask.\n",
    "- Pick one image and visualize the effect of the dilation/ erosion / opening / closing on the data.\n",
    "- **Q5: Visualize and explain the differences of the different dilation/erosion/ opening/closing operations on the mask. What would be the different dis/advantages of the different methods?**"
   ]
  },
  {
   "cell_type": "markdown",
   "id": "0c05b637-2e46-487f-a319-6e7a8d93af1d",
   "metadata": {},
   "source": [
    "## Step 5 SLC-filling\n",
    "- Apply a map-reduce function to the USGS Landsat 7 Top of Atmosphere Reflectance Tier 1 since 2003 where you replace the missing SLC/cloud/shadow data of every image by:\n",
    "    - The median reflectance\n",
    "    - The mean reflectance\n",
    "    - The reflectance of the greenest pixel\n",
    "    - The reflectance of the pixel that is closest in time\n",
    "- Visualize two images (summer vs winter) where you illustrate the effect of the different filling scenarios.\n",
    "- **Q6: Visualize and explain the differences of the different filling scenarios. What would be the different dis/advantages of the different methods?**"
   ]
  },
  {
   "cell_type": "code",
   "execution_count": null,
   "id": "d07c3a65-de6f-4cc4-92e5-65f6cd8ba3df",
   "metadata": {},
   "outputs": [],
   "source": []
  }
 ],
 "metadata": {
  "kernelspec": {
   "display_name": "Python 3 (ipykernel)",
   "language": "python",
   "name": "python3"
  },
  "language_info": {
   "codemirror_mode": {
    "name": "ipython",
    "version": 3
   },
   "file_extension": ".py",
   "mimetype": "text/x-python",
   "name": "python",
   "nbconvert_exporter": "python",
   "pygments_lexer": "ipython3",
   "version": "3.9.7"
  }
 },
 "nbformat": 4,
 "nbformat_minor": 5
}
