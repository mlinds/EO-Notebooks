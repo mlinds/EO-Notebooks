{
 "cells": [
  {
   "cell_type": "markdown",
   "id": "fd88f344-2cce-4463-8554-920886718cf9",
   "metadata": {},
   "source": [
    "# Week 3 \n",
    "## monday - reducers and image operations:\n",
    "### reducers\n",
    "\n",
    "- most of the time you apply a number of functions to the different bands but we don't care about the intermediate options, only the result"
   ]
  },
  {
   "cell_type": "code",
   "execution_count": null,
   "id": "dd1bcd54-8ae2-476c-b67a-6ecd8fc47a1f",
   "metadata": {},
   "outputs": [],
   "source": []
  }
 ],
 "metadata": {
  "kernelspec": {
   "display_name": "Python 3 (ipykernel)",
   "language": "python",
   "name": "python3"
  },
  "language_info": {
   "codemirror_mode": {
    "name": "ipython",
    "version": 3
   },
   "file_extension": ".py",
   "mimetype": "text/x-python",
   "name": "python",
   "nbconvert_exporter": "python",
   "pygments_lexer": "ipython3",
   "version": "3.9.7"
  }
 },
 "nbformat": 4,
 "nbformat_minor": 5
}
