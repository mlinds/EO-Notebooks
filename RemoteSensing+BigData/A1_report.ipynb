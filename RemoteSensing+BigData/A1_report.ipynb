{
 "cells": [
  {
   "cell_type": "markdown",
   "source": [
    "# Assignment 1\n",
    "Remote Sensing & Big Data\n",
    "Assignment 1\n",
    "In this assignment, you will implement the map-reduce principles and some basic image operations (e.g. morphological operations) on the Landsat 7 image collection in the Google Earth Engine (GEE). Below you find the different steps to perform and the questions that come with these steps.\n",
    "\n",
    "When handing in the assignment on Brightspace, we ask you to upload the following:\n",
    "\n",
    "- Your GEE scripts:\n",
    "- When working in the javascript/web-interface: please add your code as appendix to your report (e.g. printed as pdf) and a hyperlink to the working code on GEE.\n",
    "- When working in the python-interface: please add your jupyter-notebook and a printed version (e.g. as pdf) of this notebook.\n",
    "- A motivation for each step in your code. This can be done as comments in your code or separate in the report.\n",
    "- Response to the questions, which are highlighted in red.\n",
    "\n",
    "If you do not provide your code and/or motivation for each step, we will not grade the assignment resulting in a fail score.\n",
    "## Step 1 Data loading\n",
    "- Load the USGS Landsat 7 Top of Atmosphere Reflectance Tier 1 data over a region of your interest. FYI: if you want to know what the difference between the different Tiers is: https://www.usgs.gov/media/videos/landsat-collections-what-are-tiers\n",
    "\n",
    "\n",
    "\n",
    "## Step 2 Naive annual composites\n",
    "- Apply the map-reduce principle to convert the image collection of Step 1 into annual composites with different filtering & reducing conditions. Within this step, implement:\n",
    "    - A: Different filtering conditions based cloud cover metadata:\n",
    "        - a1: no filtering\n",
    "        - b2: with clouds and shadow masked\n",
    "    - C: For every step of A&B visualize different reducers for the RGB-bands: \n",
    "        - mean \n",
    "        - median \n",
    "        - count\n",
    "        - 0.05 percentile\n",
    "        - 0.95 percentile\n",
    "        \n",
    "- **Q1: What are the differences you observe between the different composites (e.g. number of scenes, cloud/noise/SLC artefacts, reflectance values and visual appearance) and explain their cause?**\n",
    "- **Q2: Discuss what the impact of these differences could be on subsequent big data analysis and how it might affect the veracity of the analysis.**\n",
    "\n",
    "## Step 3 Greenest pixel composites\n",
    "- Use the map-principle to calculate the normalized difference vegetation index (NDVI) for every image and use this index to reduce the collection to a greenest pixel composite for every year.\n",
    "- Visualize the results and compare them to the results of Step 2.\n",
    "\n",
    "- **Q3: What are the differences between the greenest pixel composite and the results of step 2 and explain their cause?**\n",
    "- **Q4: What are the advantages and potential disadvantages of using a quality mosaic?**\n",
    "\n",
    "## Step 4 SLC- and cloud masking\n",
    "- Load the cloud+cloud-shadow mask for every image by extracting the BQA mask.\n",
    "- Apply different image dilation/ erosion / opening / closing operations on the BQA mask with different distances/iterations.\n",
    "- Update the mask with the dilated/ erosed / opened / closed BQA mask.\n",
    "- Pick one image and visualize the effect of the dilation/ erosion / opening / closing on the data.\n",
    "- **Q5: Visualize and explain the differences of the different dilation/erosion/ opening/closing operations on the mask. What would be the different dis/advantages of the different methods?**\n",
    "\n",
    "## Step 5 SLC-filling\n",
    "- Apply a map-reduce function to the USGS Landsat 7 Top of Atmosphere Reflectance Tier 1 since 2003 where you replace the missing SLC/cloud/shadow data of every image by:\n",
    "    - The median reflectance\n",
    "    - The mean reflectance\n",
    "    - The reflectance of the greenest pixel\n",
    "    - The reflectance of the pixel that is closest in time\n",
    "- Visualize two images (summer vs winter) where you illustrate the effect of the different filling scenarios.\n",
    "- **Q6: Visualize and explain the differences of the different filling scenarios. What would be the different dis/advantages of the different methods?**"
   ],
   "metadata": {}
  },
  {
   "cell_type": "code",
   "execution_count": null,
   "source": [],
   "outputs": [],
   "metadata": {}
  }
 ],
 "metadata": {
  "kernelspec": {
   "display_name": "Python 3 (ipykernel)",
   "language": "python",
   "name": "python3"
  },
  "language_info": {
   "codemirror_mode": {
    "name": "ipython",
    "version": 3
   },
   "file_extension": ".py",
   "mimetype": "text/x-python",
   "name": "python",
   "nbconvert_exporter": "python",
   "pygments_lexer": "ipython3",
   "version": "3.9.7"
  }
 },
 "nbformat": 4,
 "nbformat_minor": 5
}