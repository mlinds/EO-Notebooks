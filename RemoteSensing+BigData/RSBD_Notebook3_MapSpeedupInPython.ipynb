{
 "cells": [
  {
   "cell_type": "markdown",
   "metadata": {
    "colab_type": "text",
    "id": "view-in-github"
   },
   "source": [
    "<a href=\"https://colab.research.google.com/github/steflhermitte/EO-Notebooks/blob/master/RemoteSensing%2BBigData/RSBD_Notebook3_MapSpeedupInPython.ipynb\" target=\"_parent\"><img src=\"https://colab.research.google.com/assets/colab-badge.svg\" alt=\"Open In Colab\"/></a>"
   ]
  },
  {
   "cell_type": "markdown",
   "metadata": {
    "id": "QlO3AeD2Pj1W"
   },
   "source": [
    "# Simple example\n",
    "Simple example to calculate square of items:"
   ]
  },
  {
   "cell_type": "code",
   "execution_count": 20,
   "metadata": {
    "id": "40SkhxBeJeC3"
   },
   "outputs": [],
   "source": [
    "items = [1, 2, 3, 4, 5]\n",
    "squared = []\n",
    "for i in items:\n",
    "    squared.append(i**2)"
   ]
  },
  {
   "cell_type": "markdown",
   "metadata": {
    "id": "yDaAjDGbPyyc"
   },
   "source": [
    "Define as a function:"
   ]
  },
  {
   "cell_type": "code",
   "execution_count": 21,
   "metadata": {
    "id": "_YpKHaXpJe5t"
   },
   "outputs": [],
   "source": [
    "def square(items):\n",
    "    squared = []\n",
    "    for i in items:\n",
    "        squared.append(i**2)\n",
    "        return squared"
   ]
  },
  {
   "cell_type": "code",
   "execution_count": 22,
   "metadata": {
    "colab": {
     "base_uri": "https://localhost:8080/"
    },
    "id": "l8I1ad0IJ5_a",
    "outputId": "b7618db7-850c-4bf5-dc2b-de875a6809e2"
   },
   "outputs": [
    {
     "name": "stdout",
     "output_type": "stream",
     "text": [
      "CPU times: user 4 µs, sys: 0 ns, total: 4 µs\n",
      "Wall time: 6.91 µs\n"
     ]
    }
   ],
   "source": [
    "%time s = square(items)"
   ]
  },
  {
   "cell_type": "markdown",
   "metadata": {
    "id": "wUWCEspKP2_A"
   },
   "source": [
    "Now do the same for a larger list"
   ]
  },
  {
   "cell_type": "code",
   "execution_count": 23,
   "metadata": {
    "colab": {
     "base_uri": "https://localhost:8080/"
    },
    "id": "n-F9Xj9yKBhM",
    "outputId": "728bba92-f9f3-4591-e9e3-7eea514633d6"
   },
   "outputs": [
    {
     "data": {
      "text/plain": [
       "500000000"
      ]
     },
     "execution_count": 23,
     "metadata": {},
     "output_type": "execute_result"
    }
   ],
   "source": [
    "large_items = items*100000000\n",
    "len(large_items)"
   ]
  },
  {
   "cell_type": "code",
   "execution_count": 24,
   "metadata": {
    "colab": {
     "base_uri": "https://localhost:8080/"
    },
    "id": "CePrtaDOKOr6",
    "outputId": "5c8885fe-52b8-4853-9596-f8dd773564bd"
   },
   "outputs": [
    {
     "name": "stdout",
     "output_type": "stream",
     "text": [
      "CPU times: user 4 µs, sys: 0 ns, total: 4 µs\n",
      "Wall time: 6.91 µs\n"
     ]
    }
   ],
   "source": [
    "%time s = square(large_items)"
   ]
  },
  {
   "cell_type": "markdown",
   "metadata": {
    "id": "-BZnpWl_P8AU"
   },
   "source": [
    "## Map the function\n",
    "We can also map the function with `map(function,items)`:"
   ]
  },
  {
   "cell_type": "code",
   "execution_count": 25,
   "metadata": {
    "colab": {
     "base_uri": "https://localhost:8080/"
    },
    "id": "6attEAkyLR4q",
    "outputId": "dfb1c002-a68c-43da-ab2d-985b476303bd"
   },
   "outputs": [
    {
     "name": "stdout",
     "output_type": "stream",
     "text": [
      "CPU times: user 4 µs, sys: 1 µs, total: 5 µs\n",
      "Wall time: 6.91 µs\n"
     ]
    }
   ],
   "source": [
    "%time s = map(lambda x: x**2, items)"
   ]
  },
  {
   "cell_type": "code",
   "execution_count": 26,
   "metadata": {
    "colab": {
     "base_uri": "https://localhost:8080/"
    },
    "id": "1tsltlL2KQaz",
    "outputId": "f1e3ab0e-37f4-4c5d-d47e-ef9d0d34a5b5"
   },
   "outputs": [
    {
     "name": "stdout",
     "output_type": "stream",
     "text": [
      "CPU times: user 4 µs, sys: 0 ns, total: 4 µs\n",
      "Wall time: 7.15 µs\n"
     ]
    }
   ],
   "source": [
    "%time s = map(lambda x: x**2, large_items)"
   ]
  },
  {
   "cell_type": "markdown",
   "metadata": {
    "id": "tTd978bGQIB4"
   },
   "source": [
    "This was fast due to the laze execution, where map only returns a memory address:"
   ]
  },
  {
   "cell_type": "code",
   "execution_count": 27,
   "metadata": {
    "colab": {
     "base_uri": "https://localhost:8080/"
    },
    "id": "HvGoEshYLYe8",
    "outputId": "d7621d01-4c00-4255-d917-7b4a796ffd69"
   },
   "outputs": [
    {
     "data": {
      "text/plain": [
       "<map at 0x7f5608177940>"
      ]
     },
     "execution_count": 27,
     "metadata": {},
     "output_type": "execute_result"
    }
   ],
   "source": [
    "s"
   ]
  },
  {
   "cell_type": "code",
   "execution_count": 28,
   "metadata": {
    "colab": {
     "base_uri": "https://localhost:8080/"
    },
    "id": "Ovu1ftO4QXhV",
    "outputId": "5d759d91-ed57-48ce-a8f7-cc59251cbba3"
   },
   "outputs": [
    {
     "name": "stdout",
     "output_type": "stream",
     "text": [
      "CPU times: user 7 µs, sys: 1 µs, total: 8 µs\n",
      "Wall time: 10 µs\n"
     ]
    }
   ],
   "source": [
    "%time s = list(map(lambda x: x**2, items))"
   ]
  },
  {
   "cell_type": "code",
   "execution_count": 29,
   "metadata": {
    "colab": {
     "base_uri": "https://localhost:8080/"
    },
    "id": "qYwkZct4QaIn",
    "outputId": "7ba18bcf-be22-4ec2-af8b-ea78477b958e"
   },
   "outputs": [
    {
     "name": "stdout",
     "output_type": "stream",
     "text": [
      "CPU times: user 2min 9s, sys: 43.2 s, total: 2min 53s\n",
      "Wall time: 2min 53s\n"
     ]
    }
   ],
   "source": [
    "%time s = list(map(lambda x: x**2, large_items))"
   ]
  },
  {
   "cell_type": "markdown",
   "metadata": {
    "id": "65YobhDDQTAl"
   },
   "source": [
    "## Increase speed with map\n",
    "Let's see how map can speed-up things. For example, if we want to calculate the sum of 2 arrays per element:"
   ]
  },
  {
   "cell_type": "code",
   "execution_count": 33,
   "metadata": {
    "id": "HImeIYLiOdbO"
   },
   "outputs": [],
   "source": [
    "n=int(5.0e7)\n",
    "x = range(n)\n",
    "y = range(n)"
   ]
  },
  {
   "cell_type": "markdown",
   "metadata": {
    "id": "QuGnFTNyQuRN"
   },
   "source": [
    "With map this is fast:"
   ]
  },
  {
   "cell_type": "code",
   "execution_count": 34,
   "metadata": {
    "id": "VnXloNebQhnr"
   },
   "outputs": [],
   "source": [
    "def sum(x,y):\n",
    "    return x+y"
   ]
  },
  {
   "cell_type": "code",
   "execution_count": 35,
   "metadata": {
    "colab": {
     "base_uri": "https://localhost:8080/"
    },
    "id": "pUrEiFhSOt3n",
    "outputId": "4c6d6e46-7f3f-4752-ec5b-5df585e1934d"
   },
   "outputs": [
    {
     "name": "stdout",
     "output_type": "stream",
     "text": [
      "CPU times: user 3 µs, sys: 1 µs, total: 4 µs\n",
      "Wall time: 6.91 µs\n"
     ]
    }
   ],
   "source": [
    "%time res=map(sum,x,y)\n"
   ]
  },
  {
   "cell_type": "code",
   "execution_count": 40,
   "metadata": {},
   "outputs": [
    {
     "name": "stdout",
     "output_type": "stream",
     "text": [
      "None\n"
     ]
    }
   ],
   "source": []
  },
  {
   "cell_type": "markdown",
   "metadata": {
    "id": "UJHr4zQZRdSb"
   },
   "source": [
    "With a for-loop this is slower:"
   ]
  },
  {
   "cell_type": "code",
   "execution_count": 36,
   "metadata": {
    "id": "l9pW6hzXQ3r_"
   },
   "outputs": [],
   "source": [
    "import numpy as np"
   ]
  },
  {
   "cell_type": "code",
   "execution_count": 41,
   "metadata": {
    "id": "H__QGc_AOvmP"
   },
   "outputs": [],
   "source": [
    "def sum2(x,y):\n",
    "    res=np.zeros(len(x))  # Initialize\n",
    "    for i in range(len(x)):\n",
    "        res[i] = sum(x[i],y[i])\n"
   ]
  },
  {
   "cell_type": "code",
   "execution_count": null,
   "metadata": {
    "colab": {
     "base_uri": "https://localhost:8080/"
    },
    "id": "PVwauKQePE7P",
    "outputId": "149ab623-da1c-4662-b6db-c317a78c972b"
   },
   "outputs": [],
   "source": [
    "%timeit res=sum2(x,y)"
   ]
  },
  {
   "cell_type": "code",
   "execution_count": null,
   "metadata": {
    "id": "GbB6C62lPO0g"
   },
   "outputs": [],
   "source": []
  }
 ],
 "metadata": {
  "accelerator": "TPU",
  "colab": {
   "authorship_tag": "ABX9TyOZA9NuCfpFVLO93GYuxXW9",
   "include_colab_link": true,
   "name": "MapInPython.ipynb",
   "provenance": [],
   "toc_visible": true
  },
  "kernelspec": {
   "display_name": "Python 3 (ipykernel)",
   "language": "python",
   "name": "python3"
  },
  "language_info": {
   "codemirror_mode": {
    "name": "ipython",
    "version": 3
   },
   "file_extension": ".py",
   "mimetype": "text/x-python",
   "name": "python",
   "nbconvert_exporter": "python",
   "pygments_lexer": "ipython3",
   "version": "3.9.7"
  }
 },
 "nbformat": 4,
 "nbformat_minor": 4
}
